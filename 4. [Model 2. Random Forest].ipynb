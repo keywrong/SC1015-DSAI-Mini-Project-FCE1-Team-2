{
 "cells": [
  {
   "cell_type": "markdown",
   "id": "06ce0eab",
   "metadata": {},
   "source": [
    "<h1>Random Forest</h1>\n",
    "\n",
    "Random Forest is a machine learning tool that takes random data points from random variables to come up with multiple decision trees. The output of each tree is then combined to make a final prediction, resulting in more accurate models. \n",
    "\n",
    "Since our cleaned data set has over 60,000 data points including 2 numeric and 9 categorical variables, Random Forest is a suitable algorithm as it can analyse large datasets with many features and high dimensionality. Additionally, Random Forest avoids the problem of overfitting by using multiple decision trees which improves the generalisation ability of the model. Finally, Random Forest can handle a mix of categorical and numerical data which suits our data set specifically, helping to improve the accuracy of our predictions."
   ]
  },
  {
   "cell_type": "code",
   "execution_count": 1,
   "id": "c42a73fa",
   "metadata": {},
   "outputs": [],
   "source": [
    "# Basic Libraries\n",
    "import numpy as np\n",
    "import pandas as pd\n",
    "import seaborn as sb\n",
    "import matplotlib as mpl\n",
    "import matplotlib.pyplot as plt\n",
    "from sklearn.metrics import confusion_matrix\n",
    "sb.set() # set the default Seaborn style for graphics"
   ]
  },
  {
   "cell_type": "code",
   "execution_count": 2,
   "id": "e1050ab3",
   "metadata": {},
   "outputs": [
    {
     "data": {
      "text/html": [
       "<div>\n",
       "<style scoped>\n",
       "    .dataframe tbody tr th:only-of-type {\n",
       "        vertical-align: middle;\n",
       "    }\n",
       "\n",
       "    .dataframe tbody tr th {\n",
       "        vertical-align: top;\n",
       "    }\n",
       "\n",
       "    .dataframe thead th {\n",
       "        text-align: right;\n",
       "    }\n",
       "</style>\n",
       "<table border=\"1\" class=\"dataframe\">\n",
       "  <thead>\n",
       "    <tr style=\"text-align: right;\">\n",
       "      <th></th>\n",
       "      <th>Diabetes_binary</th>\n",
       "      <th>HighBP</th>\n",
       "      <th>HighChol</th>\n",
       "      <th>CholCheck</th>\n",
       "      <th>BMI</th>\n",
       "      <th>Smoker</th>\n",
       "      <th>Stroke</th>\n",
       "      <th>HeartDiseaseorAttack</th>\n",
       "      <th>PhysActivity</th>\n",
       "      <th>Fruits</th>\n",
       "      <th>...</th>\n",
       "      <th>AnyHealthcare</th>\n",
       "      <th>NoDocbcCost</th>\n",
       "      <th>GenHlth</th>\n",
       "      <th>MentHlth</th>\n",
       "      <th>PhysHlth</th>\n",
       "      <th>DiffWalk</th>\n",
       "      <th>Sex</th>\n",
       "      <th>Age</th>\n",
       "      <th>Education</th>\n",
       "      <th>Income</th>\n",
       "    </tr>\n",
       "  </thead>\n",
       "  <tbody>\n",
       "    <tr>\n",
       "      <th>0</th>\n",
       "      <td>0.0</td>\n",
       "      <td>1</td>\n",
       "      <td>0.0</td>\n",
       "      <td>1</td>\n",
       "      <td>33.0</td>\n",
       "      <td>0.0</td>\n",
       "      <td>0.0</td>\n",
       "      <td>0.0</td>\n",
       "      <td>1</td>\n",
       "      <td>1</td>\n",
       "      <td>...</td>\n",
       "      <td>1</td>\n",
       "      <td>0.0</td>\n",
       "      <td>2.0</td>\n",
       "      <td>15.0</td>\n",
       "      <td>0.0</td>\n",
       "      <td>1.0</td>\n",
       "      <td>1</td>\n",
       "      <td>7</td>\n",
       "      <td>6.0</td>\n",
       "      <td>9.0</td>\n",
       "    </tr>\n",
       "    <tr>\n",
       "      <th>1</th>\n",
       "      <td>0.0</td>\n",
       "      <td>0</td>\n",
       "      <td>1.0</td>\n",
       "      <td>1</td>\n",
       "      <td>27.0</td>\n",
       "      <td>1.0</td>\n",
       "      <td>0.0</td>\n",
       "      <td>0.0</td>\n",
       "      <td>1</td>\n",
       "      <td>0</td>\n",
       "      <td>...</td>\n",
       "      <td>1</td>\n",
       "      <td>0.0</td>\n",
       "      <td>2.0</td>\n",
       "      <td>1.0</td>\n",
       "      <td>2.0</td>\n",
       "      <td>0.0</td>\n",
       "      <td>1</td>\n",
       "      <td>7</td>\n",
       "      <td>6.0</td>\n",
       "      <td>6.0</td>\n",
       "    </tr>\n",
       "    <tr>\n",
       "      <th>2</th>\n",
       "      <td>0.0</td>\n",
       "      <td>0</td>\n",
       "      <td>1.0</td>\n",
       "      <td>1</td>\n",
       "      <td>26.0</td>\n",
       "      <td>1.0</td>\n",
       "      <td>0.0</td>\n",
       "      <td>0.0</td>\n",
       "      <td>0</td>\n",
       "      <td>0</td>\n",
       "      <td>...</td>\n",
       "      <td>1</td>\n",
       "      <td>0.0</td>\n",
       "      <td>3.0</td>\n",
       "      <td>0.0</td>\n",
       "      <td>30.0</td>\n",
       "      <td>0.0</td>\n",
       "      <td>1</td>\n",
       "      <td>13</td>\n",
       "      <td>4.0</td>\n",
       "      <td>3.0</td>\n",
       "    </tr>\n",
       "    <tr>\n",
       "      <th>3</th>\n",
       "      <td>0.0</td>\n",
       "      <td>0</td>\n",
       "      <td>0.0</td>\n",
       "      <td>1</td>\n",
       "      <td>19.0</td>\n",
       "      <td>1.0</td>\n",
       "      <td>0.0</td>\n",
       "      <td>0.0</td>\n",
       "      <td>1</td>\n",
       "      <td>1</td>\n",
       "      <td>...</td>\n",
       "      <td>1</td>\n",
       "      <td>0.0</td>\n",
       "      <td>3.0</td>\n",
       "      <td>0.0</td>\n",
       "      <td>0.0</td>\n",
       "      <td>0.0</td>\n",
       "      <td>0</td>\n",
       "      <td>11</td>\n",
       "      <td>5.0</td>\n",
       "      <td>7.0</td>\n",
       "    </tr>\n",
       "    <tr>\n",
       "      <th>4</th>\n",
       "      <td>0.0</td>\n",
       "      <td>1</td>\n",
       "      <td>0.0</td>\n",
       "      <td>1</td>\n",
       "      <td>37.0</td>\n",
       "      <td>0.0</td>\n",
       "      <td>0.0</td>\n",
       "      <td>0.0</td>\n",
       "      <td>1</td>\n",
       "      <td>1</td>\n",
       "      <td>...</td>\n",
       "      <td>1</td>\n",
       "      <td>0.0</td>\n",
       "      <td>2.0</td>\n",
       "      <td>0.0</td>\n",
       "      <td>0.0</td>\n",
       "      <td>0.0</td>\n",
       "      <td>0</td>\n",
       "      <td>5</td>\n",
       "      <td>5.0</td>\n",
       "      <td>3.0</td>\n",
       "    </tr>\n",
       "  </tbody>\n",
       "</table>\n",
       "<p>5 rows × 22 columns</p>\n",
       "</div>"
      ],
      "text/plain": [
       "   Diabetes_binary  HighBP  HighChol  CholCheck   BMI  Smoker  Stroke  \\\n",
       "0              0.0       1       0.0          1  33.0     0.0     0.0   \n",
       "1              0.0       0       1.0          1  27.0     1.0     0.0   \n",
       "2              0.0       0       1.0          1  26.0     1.0     0.0   \n",
       "3              0.0       0       0.0          1  19.0     1.0     0.0   \n",
       "4              0.0       1       0.0          1  37.0     0.0     0.0   \n",
       "\n",
       "   HeartDiseaseorAttack  PhysActivity  Fruits  ...  AnyHealthcare  \\\n",
       "0                   0.0             1       1  ...              1   \n",
       "1                   0.0             1       0  ...              1   \n",
       "2                   0.0             0       0  ...              1   \n",
       "3                   0.0             1       1  ...              1   \n",
       "4                   0.0             1       1  ...              1   \n",
       "\n",
       "   NoDocbcCost  GenHlth  MentHlth  PhysHlth  DiffWalk  Sex  Age  Education  \\\n",
       "0          0.0      2.0      15.0       0.0       1.0    1    7        6.0   \n",
       "1          0.0      2.0       1.0       2.0       0.0    1    7        6.0   \n",
       "2          0.0      3.0       0.0      30.0       0.0    1   13        4.0   \n",
       "3          0.0      3.0       0.0       0.0       0.0    0   11        5.0   \n",
       "4          0.0      2.0       0.0       0.0       0.0    0    5        5.0   \n",
       "\n",
       "   Income  \n",
       "0     9.0  \n",
       "1     6.0  \n",
       "2     3.0  \n",
       "3     7.0  \n",
       "4     3.0  \n",
       "\n",
       "[5 rows x 22 columns]"
      ]
     },
     "execution_count": 2,
     "metadata": {},
     "output_type": "execute_result"
    }
   ],
   "source": [
    "# Loading cleaned data set\n",
    "diabetes = pd.read_csv('diabetes.csv')\n",
    "diabetes.head()"
   ]
  },
  {
   "cell_type": "markdown",
   "id": "e983c69a",
   "metadata": {},
   "source": [
    "<h1>Variables</h1>\n",
    "\n",
    "From our Exploratory Data Analysis, a total of 2 numeric and 9 categorical variables that are significantly correlated with diabetes were identified. For Random Forest, categorical values have been converted into numerical values for easy processing."
   ]
  },
  {
   "cell_type": "code",
   "execution_count": 3,
   "id": "80d2cccc",
   "metadata": {},
   "outputs": [
    {
     "data": {
      "text/html": [
       "<div>\n",
       "<style scoped>\n",
       "    .dataframe tbody tr th:only-of-type {\n",
       "        vertical-align: middle;\n",
       "    }\n",
       "\n",
       "    .dataframe tbody tr th {\n",
       "        vertical-align: top;\n",
       "    }\n",
       "\n",
       "    .dataframe thead th {\n",
       "        text-align: right;\n",
       "    }\n",
       "</style>\n",
       "<table border=\"1\" class=\"dataframe\">\n",
       "  <thead>\n",
       "    <tr style=\"text-align: right;\">\n",
       "      <th></th>\n",
       "      <th>Diabetes_binary</th>\n",
       "      <th>BMI</th>\n",
       "      <th>PhysHlth</th>\n",
       "      <th>HighBP</th>\n",
       "      <th>HighChol</th>\n",
       "      <th>Smoker</th>\n",
       "      <th>HeartDiseaseorAttack</th>\n",
       "      <th>PhysActivity</th>\n",
       "      <th>GenHlth</th>\n",
       "      <th>DiffWalk</th>\n",
       "      <th>Age</th>\n",
       "      <th>Income</th>\n",
       "    </tr>\n",
       "  </thead>\n",
       "  <tbody>\n",
       "    <tr>\n",
       "      <th>0</th>\n",
       "      <td>0.0</td>\n",
       "      <td>33.0</td>\n",
       "      <td>0.0</td>\n",
       "      <td>1</td>\n",
       "      <td>0.0</td>\n",
       "      <td>0.0</td>\n",
       "      <td>0.0</td>\n",
       "      <td>1</td>\n",
       "      <td>2.0</td>\n",
       "      <td>1.0</td>\n",
       "      <td>7</td>\n",
       "      <td>9.0</td>\n",
       "    </tr>\n",
       "    <tr>\n",
       "      <th>1</th>\n",
       "      <td>0.0</td>\n",
       "      <td>27.0</td>\n",
       "      <td>2.0</td>\n",
       "      <td>0</td>\n",
       "      <td>1.0</td>\n",
       "      <td>1.0</td>\n",
       "      <td>0.0</td>\n",
       "      <td>1</td>\n",
       "      <td>2.0</td>\n",
       "      <td>0.0</td>\n",
       "      <td>7</td>\n",
       "      <td>6.0</td>\n",
       "    </tr>\n",
       "    <tr>\n",
       "      <th>2</th>\n",
       "      <td>0.0</td>\n",
       "      <td>26.0</td>\n",
       "      <td>30.0</td>\n",
       "      <td>0</td>\n",
       "      <td>1.0</td>\n",
       "      <td>1.0</td>\n",
       "      <td>0.0</td>\n",
       "      <td>0</td>\n",
       "      <td>3.0</td>\n",
       "      <td>0.0</td>\n",
       "      <td>13</td>\n",
       "      <td>3.0</td>\n",
       "    </tr>\n",
       "    <tr>\n",
       "      <th>3</th>\n",
       "      <td>0.0</td>\n",
       "      <td>19.0</td>\n",
       "      <td>0.0</td>\n",
       "      <td>0</td>\n",
       "      <td>0.0</td>\n",
       "      <td>1.0</td>\n",
       "      <td>0.0</td>\n",
       "      <td>1</td>\n",
       "      <td>3.0</td>\n",
       "      <td>0.0</td>\n",
       "      <td>11</td>\n",
       "      <td>7.0</td>\n",
       "    </tr>\n",
       "    <tr>\n",
       "      <th>4</th>\n",
       "      <td>0.0</td>\n",
       "      <td>37.0</td>\n",
       "      <td>0.0</td>\n",
       "      <td>1</td>\n",
       "      <td>0.0</td>\n",
       "      <td>0.0</td>\n",
       "      <td>0.0</td>\n",
       "      <td>1</td>\n",
       "      <td>2.0</td>\n",
       "      <td>0.0</td>\n",
       "      <td>5</td>\n",
       "      <td>3.0</td>\n",
       "    </tr>\n",
       "  </tbody>\n",
       "</table>\n",
       "</div>"
      ],
      "text/plain": [
       "   Diabetes_binary   BMI  PhysHlth  HighBP  HighChol  Smoker  \\\n",
       "0              0.0  33.0       0.0       1       0.0     0.0   \n",
       "1              0.0  27.0       2.0       0       1.0     1.0   \n",
       "2              0.0  26.0      30.0       0       1.0     1.0   \n",
       "3              0.0  19.0       0.0       0       0.0     1.0   \n",
       "4              0.0  37.0       0.0       1       0.0     0.0   \n",
       "\n",
       "   HeartDiseaseorAttack  PhysActivity  GenHlth  DiffWalk  Age  Income  \n",
       "0                   0.0             1      2.0       1.0    7     9.0  \n",
       "1                   0.0             1      2.0       0.0    7     6.0  \n",
       "2                   0.0             0      3.0       0.0   13     3.0  \n",
       "3                   0.0             1      3.0       0.0   11     7.0  \n",
       "4                   0.0             1      2.0       0.0    5     3.0  "
      ]
     },
     "execution_count": 3,
     "metadata": {},
     "output_type": "execute_result"
    }
   ],
   "source": [
    "# Creating dataframe with only significant independent variables\n",
    "diabetes_dataset = pd.DataFrame(diabetes[['Diabetes_binary','BMI','PhysHlth','HighBP','HighChol','Smoker','HeartDiseaseorAttack','PhysActivity','GenHlth','DiffWalk','Age','Income']])\n",
    "diabetes_dataset.head()"
   ]
  },
  {
   "cell_type": "code",
   "execution_count": 4,
   "id": "1f43aa09",
   "metadata": {},
   "outputs": [
    {
     "name": "stdout",
     "output_type": "stream",
     "text": [
      "<class 'pandas.core.frame.DataFrame'>\n",
      "RangeIndex: 67136 entries, 0 to 67135\n",
      "Data columns (total 12 columns):\n",
      " #   Column                Non-Null Count  Dtype  \n",
      "---  ------                --------------  -----  \n",
      " 0   Diabetes_binary       67136 non-null  float64\n",
      " 1   BMI                   67136 non-null  float64\n",
      " 2   PhysHlth              67136 non-null  float64\n",
      " 3   HighBP                67136 non-null  int64  \n",
      " 4   HighChol              67136 non-null  float64\n",
      " 5   Smoker                67136 non-null  float64\n",
      " 6   HeartDiseaseorAttack  67136 non-null  float64\n",
      " 7   PhysActivity          67136 non-null  int64  \n",
      " 8   GenHlth               67136 non-null  float64\n",
      " 9   DiffWalk              67136 non-null  float64\n",
      " 10  Age                   67136 non-null  int64  \n",
      " 11  Income                67136 non-null  float64\n",
      "dtypes: float64(9), int64(3)\n",
      "memory usage: 6.1 MB\n"
     ]
    }
   ],
   "source": [
    "# Check if variable data has been changed to type int/float\n",
    "diabetes_dataset.info()"
   ]
  },
  {
   "cell_type": "code",
   "execution_count": 5,
   "id": "246dc10e",
   "metadata": {},
   "outputs": [],
   "source": [
    "# Rename the reponse variable column to \"Diabetes\" to make it more intuitive\n",
    "diabetes_dataset.rename(columns={\"Diabetes_binary\": \"Diabetes\"}, inplace=True) \n",
    "\n",
    "# Isolate dependent variable to fit into the model\n",
    "labels = diabetes_dataset.pop(\"Diabetes\")"
   ]
  },
  {
   "cell_type": "markdown",
   "id": "3e52cbb5",
   "metadata": {},
   "source": [
    "<h1>Train and Test Set</h1>\n",
    "\n",
    "Our data set will be randomly split into two sets with 75% of the data forming the train set and the remaining 25% forming the test set.\n",
    "\n",
    "The train set will be fitted into the parameters of Random Forest where the coefficients of the model are adjusted to minimise the difference between the predicted and the actual values for diabetes based on the given independent variables.\n",
    "\n",
    "The test set is then used to evaluate the performance of the trained model to simulate how well the model can make predictions for diabetes on new and unseen data.\n",
    "\n",
    "The train and test sets are kept completely separate to avoid overfitting the model to the train data. Overfitting occurs when the model makes predictions based on memory of data in the train set rather than trends, which causes it to perform poorly on new data. By evaluating the performance of the model on a separate test set, a better estimate is returned."
   ]
  },
  {
   "cell_type": "code",
   "execution_count": 6,
   "id": "b76a146d",
   "metadata": {},
   "outputs": [],
   "source": [
    "# Import random split tool\n",
    "from sklearn.model_selection import train_test_split"
   ]
  },
  {
   "cell_type": "code",
   "execution_count": 7,
   "id": "e02c7712",
   "metadata": {},
   "outputs": [],
   "source": [
    "# Split data randomly into 75% train set and 25% test set\n",
    "x_train, x_test, y_train, y_test = train_test_split(diabetes_dataset, labels, test_size = 0.25, random_state = 0)"
   ]
  },
  {
   "cell_type": "markdown",
   "id": "128668cc",
   "metadata": {},
   "source": [
    "<h1> ROC Curve and AUC </h1>\n",
    "\n",
    "ROC curve is a graphical plot that compares the true positive rate (TPR) and false positive rate (FPR) at different classification thresholds. TPR is the number of correctly predicted positive cases out of the total number of positive cases, while FPR is the number of incorrectly predicted positive cases to the total number of negative cases.\n",
    "\n",
    "AUC is a metric that summarises the performance of the classifier based on the ROC curve. It is the area under the ROC curve which measures the overall performance of the model across all possible classification thresholds. AUC is a measure of the prediction accuracy of the model which ranges from 0 to 1, with 0 representing a poor classifier and 1 representing a perfect classifier."
   ]
  },
  {
   "cell_type": "code",
   "execution_count": 8,
   "id": "087b1dbe",
   "metadata": {},
   "outputs": [],
   "source": [
    "from sklearn.ensemble import RandomForestClassifier\n",
    "rf = RandomForestClassifier(n_estimators=30, n_jobs=-1, random_state = 0)\n",
    "from sklearn.metrics import roc_curve, auc\n",
    "from sklearn import metrics\n",
    "\n",
    "# Fit random forest model onto train set\n",
    "rf.fit(x_train, y_train)\n",
    "\n",
    "# Predicting value of diabetes from the independent variables\n",
    "y_train_pred = rf.predict(x_train)\n",
    "y_test_pred = rf.predict(x_test)"
   ]
  },
  {
   "cell_type": "code",
   "execution_count": 9,
   "id": "12c196ee",
   "metadata": {},
   "outputs": [
    {
     "name": "stdout",
     "output_type": "stream",
     "text": [
      "Accuracy for test set:  0.7041825548141086\n"
     ]
    }
   ],
   "source": [
    "# Print accuracy for test set\n",
    "print(\"Accuracy for test set: \", metrics.accuracy_score(y_test, y_test_pred))"
   ]
  },
  {
   "cell_type": "markdown",
   "id": "96af5e70",
   "metadata": {},
   "source": [
    "<h1>Confusion Matrix</h1>\n",
    "\n",
    "A confusion matrix is a useful visualisation tool to evaluate the performance of a classification model by summarising the predicted and actual values of the test data to determine the accuracy of its predictions.\n",
    "\n",
    "The TPR can be found by dividing the true positives identified by the total actual positives. The FPR can be found by divding the false positives identified by the total actual negatives. Comparing the TPR and FPR gives us an indication of how well the model can correctly identify whether an individual has diabetes based on the individual's factors."
   ]
  },
  {
   "cell_type": "code",
   "execution_count": 10,
   "id": "a603aa21",
   "metadata": {},
   "outputs": [
    {
     "data": {
      "text/plain": [
       "<Axes: >"
      ]
     },
     "execution_count": 10,
     "metadata": {},
     "output_type": "execute_result"
    },
    {
     "data": {
      "image/png": "[encoded data removed]",
      "text/plain": [
       "<Figure size 640x480 with 2 Axes>"
      ]
     },
     "metadata": {},
     "output_type": "display_data"
    }
   ],
   "source": [
    "# Plot the confusion matrix\n",
    "sb.heatmap(confusion_matrix(y_test, y_test_pred), \n",
    "           annot = True, fmt=\".0f\", annot_kws={\"size\": 18})"
   ]
  },
  {
   "cell_type": "code",
   "execution_count": 11,
   "id": "23f8b09b",
   "metadata": {},
   "outputs": [
    {
     "name": "stdout",
     "output_type": "stream",
     "text": [
      "Goodness of Fit of Model \t:Train Dataset\n",
      "True positive rate \t= 0.9578968333001394\n",
      "False positive rate \t= 0.036043886402344835\n",
      "\n",
      "Goodness of Fit of Model \t:Test Dataset\n",
      "True positive rate \t= 0.7201937847099137\n",
      "False positive rate \t= 0.31210191082802546\n"
     ]
    }
   ],
   "source": [
    "# Check the Goodness of Fit (on Train Data)\n",
    "tn_train, fp_train, fn_train, tp_train = confusion_matrix(y_train, y_train_pred).ravel()\n",
    "\n",
    "tpr_train = tp_train / (fn_train + tp_train)\n",
    "fpr_train = fp_train / (fp_train + tn_train)\n",
    "print(\"Goodness of Fit of Model \\t:Train Dataset\")\n",
    "print(\"True positive rate \\t=\", tpr_train)\n",
    "print(\"False positive rate \\t=\", fpr_train)\n",
    "\n",
    "print()\n",
    "# Check the Goodness of Fit (on Test Data)\n",
    "tn_test, fp_test, fn_test, tp_test = confusion_matrix(y_test, y_test_pred).ravel()\n",
    "\n",
    "tpr_test = tp_test / (fn_test + tp_test)\n",
    "fpr_test = fp_test / (fp_test + tn_test)\n",
    "print(\"Goodness of Fit of Model \\t:Test Dataset\")\n",
    "print(\"True positive rate \\t=\", tpr_test)\n",
    "print(\"False positive rate \\t=\", fpr_test)"
   ]
  },
  {
   "cell_type": "markdown",
   "id": "3505dd7d",
   "metadata": {},
   "source": [
    "<h1>Optimisation</h1>\n",
    "\n",
    "The Random Forest model can be further optimised by finding the optimal number of estimators that will give the highest AUC score. A suitable estimator value has to be chosen to maximise prediction accuracy yet minimise overfitting of the data. Increasing estimator values will be tried on the Random Forest model to finding the peak of the ROC curve, which will help us identify the highest AUC score that also gives us the optimal estimator value. "
   ]
  },
  {
   "cell_type": "code",
   "execution_count": 12,
   "id": "e1b77231",
   "metadata": {},
   "outputs": [],
   "source": [
    "# Finding accuracy at different estimator values to find optimal estimator\n",
    "estimator_level = [1, 2, 4, 8, 16, 32, 64, 128, 256]\n",
    "train_results = []\n",
    "test_results = []\n",
    "\n",
    "for estimator in estimator_level:\n",
    "    rf = RandomForestClassifier(n_estimators=estimator, n_jobs=-1, random_state = 0)\n",
    "    rf.fit(x_train, y_train)\n",
    "    y_train_pred = rf.predict(x_train)\n",
    "    fpr, tpr, thresholds = roc_curve(y_train, y_train_pred)\n",
    "    accuracy = auc(fpr, tpr)\n",
    "    train_results.append(accuracy)\n",
    "    y_test_pred = rf.predict(x_test)\n",
    "    fpr, tpr, thresholds = roc_curve(y_test, y_test_pred)\n",
    "    accuracy = auc(fpr, tpr)\n",
    "    test_results.append(accuracy)"
   ]
  },
  {
   "cell_type": "code",
   "execution_count": 13,
   "id": "7b6b0728",
   "metadata": {},
   "outputs": [
    {
     "data": {
      "image/png": "[encoded data removed]",
      "text/plain": [
       "<Figure size 640x480 with 1 Axes>"
      ]
     },
     "metadata": {},
     "output_type": "display_data"
    }
   ],
   "source": [
    "# Plotting the curve\n",
    "from matplotlib.legend_handler import HandlerLine2D\n",
    "line1, = plt.plot(estimator_level, train_results, \"b\", label = \"Train Accuracy\")\n",
    "line2, = plt.plot(estimator_level, test_results, \"r\", label = \"Test Accuracy\")\n",
    "plt.legend(handler_map={line1: HandlerLine2D(numpoints=2)})\n",
    "plt.ylabel(\"AUC Score\")\n",
    "plt.xlabel(\"Estimator Level\")\n",
    "plt.show()"
   ]
  },
  {
   "cell_type": "markdown",
   "id": "ee09ae77",
   "metadata": {},
   "source": [
    "<h1>Analysis of Results</h1>\n",
    "\n",
    "From the curve, the AUC score for both the train and test set is optimal at an estimator level of 60. Beyond this level, AUC score does not improve much more for each increase in estimator level. Hence, 60 is a sufficient number of estimators. The Random Forest model is refitted with the new estimator level to find the optimal accuracy level."
   ]
  },
  {
   "cell_type": "code",
   "execution_count": 14,
   "id": "8c649f1b",
   "metadata": {},
   "outputs": [],
   "source": [
    "# Re-fitting model with optimal estimator value\n",
    "rf = RandomForestClassifier(n_estimators=60, n_jobs=-1, random_state = 0)\n",
    "rf.fit(x_train, y_train)\n",
    "\n",
    "# Predicting values of diabetes again\n",
    "y_train_pred = rf.predict(x_train)\n",
    "y_test_pred = rf.predict(x_test)"
   ]
  },
  {
   "cell_type": "code",
   "execution_count": 15,
   "id": "7ad064eb",
   "metadata": {},
   "outputs": [
    {
     "name": "stdout",
     "output_type": "stream",
     "text": [
      "Accuracy for test set:  0.7102597712106768\n"
     ]
    }
   ],
   "source": [
    "# Generating accuracy for test set\n",
    "print(\"Accuracy for test set: \", metrics.accuracy_score(y_test, y_test_pred))"
   ]
  },
  {
   "cell_type": "code",
   "execution_count": 16,
   "id": "2afd75d8",
   "metadata": {},
   "outputs": [
    {
     "data": {
      "text/plain": [
       "<Axes: >"
      ]
     },
     "execution_count": 16,
     "metadata": {},
     "output_type": "execute_result"
    },
    {
     "data": {
      "image/png": "[encoded data removed]",
      "text/plain": [
       "<Figure size 640x480 with 2 Axes>"
      ]
     },
     "metadata": {},
     "output_type": "display_data"
    }
   ],
   "source": [
    "# Print confusion matrix\n",
    "sb.heatmap(confusion_matrix(y_test, y_test_pred), \n",
    "           annot = True, fmt=\".0f\", annot_kws={\"size\": 18})"
   ]
  },
  {
   "cell_type": "code",
   "execution_count": 17,
   "id": "8360f4cf",
   "metadata": {},
   "outputs": [
    {
     "name": "stdout",
     "output_type": "stream",
     "text": [
      "Goodness of Fit of Model \t:Train Dataset\n",
      "True positive rate \t= 0.9584544911372237\n",
      "False positive rate \t= 0.03422188774903949\n",
      "\n",
      "Goodness of Fit of Model \t:Test Dataset\n",
      "True positive rate \t= 0.7365000590807043\n",
      "False positive rate \t= 0.31642831390457876\n"
     ]
    }
   ],
   "source": [
    "# Check the Goodness of Fit (on Train Data)\n",
    "tn_train, fp_train, fn_train, tp_train = confusion_matrix(y_train, y_train_pred).ravel()\n",
    "\n",
    "tpr_train = tp_train / (fn_train + tp_train)\n",
    "fpr_train = fp_train / (fp_train + tn_train)\n",
    "print(\"Goodness of Fit of Model \\t:Train Dataset\")\n",
    "print(\"True positive rate \\t=\", tpr_train)\n",
    "print(\"False positive rate \\t=\", fpr_train)\n",
    "\n",
    "print()\n",
    "# Check the Goodness of Fit (on Test Data)\n",
    "tn_test, fp_test, fn_test, tp_test = confusion_matrix(y_test, y_test_pred).ravel()\n",
    "\n",
    "tpr_test = tp_test / (fn_test + tp_test)\n",
    "fpr_test = fp_test / (fp_test + tn_test)\n",
    "print(\"Goodness of Fit of Model \\t:Test Dataset\")\n",
    "print(\"True positive rate \\t=\", tpr_test)\n",
    "print(\"False positive rate \\t=\", fpr_test)"
   ]
  },
  {
   "cell_type": "markdown",
   "id": "d89920e0",
   "metadata": {},
   "source": [
    "<h1>Final Prediction Accuracy</h1>\n",
    "\n",
    "The initial TPR (0.72019) of the test set and FPR (0.31210) has been improved in the final TPR (0.73650) and FPR (0.31643). There is an increase in TPR by 0.01631 and a slight increase in FPR by 0.00433. Although the FPR increased slightly, this is outweighed by the increase in TPR. Identifying true positives is more important than false positives as correctly diagnosing diabetes is important for treatment. Hence after optimisation, the model is able to correctly identify more true positives.\n",
    "\n",
    "The accuracy of the test set using an estimator value of 60 is 0.71026, which is slightly higher than the initial estimator value of 30 which gives 0.70418. There is an increase in accuracy but only by a small amount of 0.00608. This means that the independent variables chosen were significantly correlated with diabetes from the start. Hence, after adjusting the number of estimators to 60, the Random Forest model can correctly identify individuals with diabetes and individuals without diabetes 71.0% of the time, which is quite a high accuracy level.\n",
    "\n",
    "However, other models can still be explored to further improve the accuracy of prediction. Next, we will analyse the data using the Logistic Regression model."
   ]
  }
 ],
 "metadata": {
  "kernelspec": {
   "display_name": "Python 3 (ipykernel)",
   "language": "python",
   "name": "python3"
  },
  "language_info": {
   "codemirror_mode": {
    "name": "ipython",
    "version": 3
   },
   "file_extension": ".py",
   "mimetype": "text/x-python",
   "name": "python",
   "nbconvert_exporter": "python",
   "pygments_lexer": "ipython3",
   "version": "3.11.5"
  }
 },
 "nbformat": 4,
 "nbformat_minor": 5
}
