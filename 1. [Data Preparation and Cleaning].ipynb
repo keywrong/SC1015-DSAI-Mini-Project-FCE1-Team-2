{
 "cells": [
  {
   "cell_type": "markdown",
   "id": "c90af51f",
   "metadata": {},
   "source": [
    "## Data Preparation and Cleaning\n",
    "\n",
    "<p>Data preparation and cleaning are crucial in the data analysis process. It transform raw data into a form that is suitable for analysis. </p>\n",
    "\n",
    "The following are some key steps involved in our data preparation and cleaning process:\n",
    "\n",
    ">1. **Data Collection**: our raw dataset is from the 2021 BRFSS survey data done by the CDC, based on more than 400,000 survey participants in the US. The original data file: https://www.cdc.gov/brfss/annual_data/annual_2021.html\n",
    "\n",
    "\n",
    ">2. **Data Extraction**: the survey dataset has 303 columns, from responses to the different questions asked in the survey. To identify factors releted to Diabetes, ample research was conducted. Relevant variable columns are then identified and extracted from the survey dataset.\n",
    "\n",
    "\n",
    ">3. **Data Cleaning**: steps taken to clean the dataset include tackling missing values from survey respondents and dropping irrelevant responses.\n",
    "\n",
    "\n",
    ">4. **Data Transformation**: after cleaning, the data is transformed into a format that is suitable for analysis.\n",
    "\n",
    "\n",
    ">5. **Data Documentation & Export**: lastly, a detailed documentation of the data. Our codebook can be found in the data description file."
   ]
  },
  {
   "cell_type": "markdown",
   "id": "cb9e27fe",
   "metadata": {},
   "source": [
    "### Step 0: Load in the dataset"
   ]
  },
  {
   "cell_type": "code",
   "execution_count": 128,
   "id": "8405d27b",
   "metadata": {},
   "outputs": [],
   "source": [
    "#Import libraries\n",
    "import os\n",
    "import pandas as pd\n",
    "import numpy as np\n",
    "import random\n",
    "random.seed(1)"
   ]
  },
  {
   "cell_type": "code",
   "execution_count": 129,
   "id": "f415e190",
   "metadata": {},
   "outputs": [
    {
     "data": {
      "text/html": [
       "<div>\n",
       "<style scoped>\n",
       "    .dataframe tbody tr th:only-of-type {\n",
       "        vertical-align: middle;\n",
       "    }\n",
       "\n",
       "    .dataframe tbody tr th {\n",
       "        vertical-align: top;\n",
       "    }\n",
       "\n",
       "    .dataframe thead th {\n",
       "        text-align: right;\n",
       "    }\n",
       "</style>\n",
       "<table border=\"1\" class=\"dataframe\">\n",
       "  <thead>\n",
       "    <tr style=\"text-align: right;\">\n",
       "      <th></th>\n",
       "      <th>_STATE</th>\n",
       "      <th>FMONTH</th>\n",
       "      <th>IDATE</th>\n",
       "      <th>IMONTH</th>\n",
       "      <th>IDAY</th>\n",
       "      <th>IYEAR</th>\n",
       "      <th>DISPCODE</th>\n",
       "      <th>SEQNO</th>\n",
       "      <th>_PSU</th>\n",
       "      <th>CTELENM1</th>\n",
       "      <th>...</th>\n",
       "      <th>_FRTRES1</th>\n",
       "      <th>_VEGRES1</th>\n",
       "      <th>_FRUTSU1</th>\n",
       "      <th>_VEGESU1</th>\n",
       "      <th>_FRTLT1A</th>\n",
       "      <th>_VEGLT1A</th>\n",
       "      <th>_FRT16A</th>\n",
       "      <th>_VEG23A</th>\n",
       "      <th>_FRUITE1</th>\n",
       "      <th>_VEGETE1</th>\n",
       "    </tr>\n",
       "  </thead>\n",
       "  <tbody>\n",
       "    <tr>\n",
       "      <th>0</th>\n",
       "      <td>1</td>\n",
       "      <td>1</td>\n",
       "      <td>1192021</td>\n",
       "      <td>1</td>\n",
       "      <td>19</td>\n",
       "      <td>2021</td>\n",
       "      <td>1100</td>\n",
       "      <td>2021000001</td>\n",
       "      <td>2021000001</td>\n",
       "      <td>1.0</td>\n",
       "      <td>...</td>\n",
       "      <td>1</td>\n",
       "      <td>1</td>\n",
       "      <td>100.0</td>\n",
       "      <td>214.0</td>\n",
       "      <td>1</td>\n",
       "      <td>1</td>\n",
       "      <td>1</td>\n",
       "      <td>1</td>\n",
       "      <td>0</td>\n",
       "      <td>0</td>\n",
       "    </tr>\n",
       "    <tr>\n",
       "      <th>1</th>\n",
       "      <td>1</td>\n",
       "      <td>1</td>\n",
       "      <td>1212021</td>\n",
       "      <td>1</td>\n",
       "      <td>21</td>\n",
       "      <td>2021</td>\n",
       "      <td>1100</td>\n",
       "      <td>2021000002</td>\n",
       "      <td>2021000002</td>\n",
       "      <td>1.0</td>\n",
       "      <td>...</td>\n",
       "      <td>1</td>\n",
       "      <td>1</td>\n",
       "      <td>100.0</td>\n",
       "      <td>128.0</td>\n",
       "      <td>1</td>\n",
       "      <td>1</td>\n",
       "      <td>1</td>\n",
       "      <td>1</td>\n",
       "      <td>0</td>\n",
       "      <td>0</td>\n",
       "    </tr>\n",
       "    <tr>\n",
       "      <th>2</th>\n",
       "      <td>1</td>\n",
       "      <td>1</td>\n",
       "      <td>1212021</td>\n",
       "      <td>1</td>\n",
       "      <td>21</td>\n",
       "      <td>2021</td>\n",
       "      <td>1100</td>\n",
       "      <td>2021000003</td>\n",
       "      <td>2021000003</td>\n",
       "      <td>1.0</td>\n",
       "      <td>...</td>\n",
       "      <td>1</td>\n",
       "      <td>1</td>\n",
       "      <td>100.0</td>\n",
       "      <td>71.0</td>\n",
       "      <td>1</td>\n",
       "      <td>2</td>\n",
       "      <td>1</td>\n",
       "      <td>1</td>\n",
       "      <td>0</td>\n",
       "      <td>0</td>\n",
       "    </tr>\n",
       "    <tr>\n",
       "      <th>3</th>\n",
       "      <td>1</td>\n",
       "      <td>1</td>\n",
       "      <td>1172021</td>\n",
       "      <td>1</td>\n",
       "      <td>17</td>\n",
       "      <td>2021</td>\n",
       "      <td>1100</td>\n",
       "      <td>2021000004</td>\n",
       "      <td>2021000004</td>\n",
       "      <td>1.0</td>\n",
       "      <td>...</td>\n",
       "      <td>1</td>\n",
       "      <td>1</td>\n",
       "      <td>114.0</td>\n",
       "      <td>165.0</td>\n",
       "      <td>1</td>\n",
       "      <td>1</td>\n",
       "      <td>1</td>\n",
       "      <td>1</td>\n",
       "      <td>0</td>\n",
       "      <td>0</td>\n",
       "    </tr>\n",
       "    <tr>\n",
       "      <th>4</th>\n",
       "      <td>1</td>\n",
       "      <td>1</td>\n",
       "      <td>1152021</td>\n",
       "      <td>1</td>\n",
       "      <td>15</td>\n",
       "      <td>2021</td>\n",
       "      <td>1100</td>\n",
       "      <td>2021000005</td>\n",
       "      <td>2021000005</td>\n",
       "      <td>1.0</td>\n",
       "      <td>...</td>\n",
       "      <td>1</td>\n",
       "      <td>1</td>\n",
       "      <td>100.0</td>\n",
       "      <td>258.0</td>\n",
       "      <td>1</td>\n",
       "      <td>1</td>\n",
       "      <td>1</td>\n",
       "      <td>1</td>\n",
       "      <td>0</td>\n",
       "      <td>0</td>\n",
       "    </tr>\n",
       "  </tbody>\n",
       "</table>\n",
       "<p>5 rows × 303 columns</p>\n",
       "</div>"
      ],
      "text/plain": [
       "   _STATE  FMONTH    IDATE  IMONTH  IDAY  IYEAR  DISPCODE       SEQNO  \\\n",
       "0       1       1  1192021       1    19   2021      1100  2021000001   \n",
       "1       1       1  1212021       1    21   2021      1100  2021000002   \n",
       "2       1       1  1212021       1    21   2021      1100  2021000003   \n",
       "3       1       1  1172021       1    17   2021      1100  2021000004   \n",
       "4       1       1  1152021       1    15   2021      1100  2021000005   \n",
       "\n",
       "         _PSU  CTELENM1  ...  _FRTRES1  _VEGRES1  _FRUTSU1  _VEGESU1  \\\n",
       "0  2021000001       1.0  ...         1         1     100.0     214.0   \n",
       "1  2021000002       1.0  ...         1         1     100.0     128.0   \n",
       "2  2021000003       1.0  ...         1         1     100.0      71.0   \n",
       "3  2021000004       1.0  ...         1         1     114.0     165.0   \n",
       "4  2021000005       1.0  ...         1         1     100.0     258.0   \n",
       "\n",
       "   _FRTLT1A  _VEGLT1A  _FRT16A  _VEG23A  _FRUITE1  _VEGETE1  \n",
       "0         1         1        1        1         0         0  \n",
       "1         1         1        1        1         0         0  \n",
       "2         1         2        1        1         0         0  \n",
       "3         1         1        1        1         0         0  \n",
       "4         1         1        1        1         0         0  \n",
       "\n",
       "[5 rows x 303 columns]"
      ]
     },
     "execution_count": 129,
     "metadata": {},
     "output_type": "execute_result"
    }
   ],
   "source": [
    "#Read the dataset\n",
    "diabetes = pd.read_csv('LLCP2021 3.csv')\n",
    "diabetes.head()"
   ]
  },
  {
   "cell_type": "markdown",
   "id": "3334862a",
   "metadata": {},
   "source": [
    "### Step 1: Extract columns that are relevant to our problem, i.e., diabetes analysis\n",
    "\n",
    "After ample secondary research, the following factors are identified to have close relationship with diabetes:\n",
    "- **BMI**: In obese individuals, the amount of nonesterified fatty acids, glycerol, hormones, cytokines, proinflammatory markers, and other substances that are involved in the development of insulin resistance, is increased.\n",
    "\n",
    "- **Physical Exercise**: Inactivity increases visceral fat accumulation, stimulating chronic low-grade systemic inflammation and dependent comorbidities such as insulin resistance and Diabetes Mellitus.\n",
    "\n",
    "- **Fruit Intake**: Fruits are an important part of a healthy diet,rich in nutrients such as vitamins, minerals, and antioxidants that are important for maintaining overall health. Some studies have suggested that increased fruit intake may be related to a lower risk of diabetes.\n",
    "\n",
    "- **Vegetables Intake**: Vegetables are an important part of a healthy diet, and they are rich in nutrients such as vitamins, minerals, and fiber that are essential for maintaining overall health. Several studies have suggested that increased vegetable intake may be related to a lower risk of diabetes.\n",
    "\n",
    "- **Alcohol Consumption Habit**: Regular heavy drinking can reduce the body's sensitivity to insulin, which can trigger type 2 diabetes. Diabetes is a common side effect of chronic pancreatitis, which may be caused by heavy drinking.\n",
    "\n",
    "- **Smoker**: Tobacco use can raise your blood glucose (sugar) and reduce your body's ability to use insulin. In fact, people who smoke cigarettes are 30%–40% more likely to develop type 2 diabetes than people who don't smoke.\n",
    "\n",
    "- **Mental Health Problem**: Psychiatric disorders can disrupt sleep and impair a person's metabolism, leading to an increased risk of diabetes. \n",
    "\n",
    "- **Physical Health Problem**: People with diabetes have a higher risk of physical health problems including heart attack, stroke and kidney failure.\n",
    "\n",
    "- **Age**: According to a survey, the prevalence of diabetes and prediabetes among people aged 40–49 is 11.1% and 40.3%, respectively, while the prevalence of diabetes and prediabetes among people aged 60–69 has increased to 23.9% and 47.6%, respectively. Advanced age is a major risk factor for diabetes and prediabetes.\n",
    "\n",
    "- **Difficulty walking or climbing**: Individuals with diabetes walk slower and with shorter step lengths, a longer stance phase, a wider base of support, greater step time variability on irregular surfaces, and improper pressure distribution at the foot compared with individuals without diabetes.\n",
    "\n",
    "- **Chronic Health Conditions**: Over time, diabetes can damage blood vessels in the heart, eyes, kidneys and nerves. People with diabetes have a higher risk of health problems including heart attack, stroke and kidney failure.\n",
    "\n",
    "- **High Blood Pressure**: Diabetes causes damage by scarring the kidneys, which in turn leads to salt and water retention, which in turn raises blood pressure.\n",
    "\n",
    "- **Cholesterol**: Clinical studies have shown that increased cholesterol levels lead to deterioration of glucose tolerance, and that a high total cholesterol (TC) to high-density lipoprotein cholesterol (HDL-C) ratio can predict type 2 diabetes.\n",
    "\n",
    "- **Education**: Holding other factors constant, an increase of a year of schooling decreases the hazard of being diagnosed with Diabetes Mellitus by 0.04.\n",
    "\n",
    "- **Gender**: Worldwide, an estimated 17.7 million more men than women have diabetes mellitus.\n",
    "\n",
    "- **Have any health insurance**: People without health insurance would be less inclined to check if they have diabetes. \n",
    "\n",
    "- **Afford to see doctor**: People with lesser ability to visit the doctor would have limited access to healthcare, thus exacerbating diabetes prevalence.\n",
    "\n",
    "- **General Health**: The most common long-term diabetes-related health problems are: damage to the large blood vessels of the heart, brain and legs (macrovascular complications) damage to the small blood vessels, causing problems in the eyes, kidneys, feet and nerves (microvascular complications).\n",
    "\n",
    "- **Income**: Lower income often correlates with limited healthcare access and preventive measures, exacerbating diabetes prevalence.\n",
    "\n",
    "\n",
    "Based on the factors identified through secondary research, relevant variables and data are extracted from the raw survey data file. Variables extracted include:\n",
    "1. _BMI5\n",
    "2. _TOTINDA\n",
    "3. PHYSHLTH\n",
    "4. MENTHLTH\n",
    "5. _RFDRHV7\n",
    "6. SMOKE100\n",
    "7. _AGEG5YR\n",
    "8. DIFFWALK\n",
    "9. _SEX\n",
    "10. CVDSTRK3\n",
    "11. _MICHD\n",
    "12. _RFHYPE6\n",
    "13. TOLDHI3\n",
    "14. _CHOLCH3\n",
    "15. _FRTLT1A\n",
    "16. _VEGLT1A\n",
    "17. EDUCA\n",
    "18. _HLTHPLN\n",
    "19. GENHLTH\n",
    "20. MEDCOST1\n",
    "21. INCOME3\n",
    "\n",
    "Refer to our data description file for detailed description on the variables."
   ]
  },
  {
   "cell_type": "code",
   "execution_count": 130,
   "id": "3efbe26e",
   "metadata": {},
   "outputs": [],
   "source": [
    "#Choose specific columns\n",
    "diabetes_extracted = diabetes[['DIABETE4', '_RFHYPE6', 'TOLDHI3', '_CHOLCH3', '_BMI5', 'SMOKE100', 'CVDSTRK3', '_MICHD', '_TOTINDA', '_FRTLT1A', '_VEGLT1A', '_RFDRHV7', '_HLTHPLN', 'MEDCOST1', 'GENHLTH', 'MENTHLTH', 'PHYSHLTH', 'DIFFWALK', '_SEX', '_AGEG5YR', 'EDUCA', 'INCOME3' ]]"
   ]
  },
  {
   "cell_type": "code",
   "execution_count": 131,
   "id": "033188ce",
   "metadata": {},
   "outputs": [
    {
     "data": {
      "text/plain": [
       "(438693, 22)"
      ]
     },
     "execution_count": 131,
     "metadata": {},
     "output_type": "execute_result"
    }
   ],
   "source": [
    "#Check number of rows and columns left\n",
    "diabetes_extracted.shape"
   ]
  },
  {
   "cell_type": "code",
   "execution_count": 132,
   "id": "92bf48f4",
   "metadata": {},
   "outputs": [
    {
     "data": {
      "text/html": [
       "<div>\n",
       "<style scoped>\n",
       "    .dataframe tbody tr th:only-of-type {\n",
       "        vertical-align: middle;\n",
       "    }\n",
       "\n",
       "    .dataframe tbody tr th {\n",
       "        vertical-align: top;\n",
       "    }\n",
       "\n",
       "    .dataframe thead th {\n",
       "        text-align: right;\n",
       "    }\n",
       "</style>\n",
       "<table border=\"1\" class=\"dataframe\">\n",
       "  <thead>\n",
       "    <tr style=\"text-align: right;\">\n",
       "      <th></th>\n",
       "      <th>DIABETE4</th>\n",
       "      <th>_RFHYPE6</th>\n",
       "      <th>TOLDHI3</th>\n",
       "      <th>_CHOLCH3</th>\n",
       "      <th>_BMI5</th>\n",
       "      <th>SMOKE100</th>\n",
       "      <th>CVDSTRK3</th>\n",
       "      <th>_MICHD</th>\n",
       "      <th>_TOTINDA</th>\n",
       "      <th>_FRTLT1A</th>\n",
       "      <th>...</th>\n",
       "      <th>_HLTHPLN</th>\n",
       "      <th>MEDCOST1</th>\n",
       "      <th>GENHLTH</th>\n",
       "      <th>MENTHLTH</th>\n",
       "      <th>PHYSHLTH</th>\n",
       "      <th>DIFFWALK</th>\n",
       "      <th>_SEX</th>\n",
       "      <th>_AGEG5YR</th>\n",
       "      <th>EDUCA</th>\n",
       "      <th>INCOME3</th>\n",
       "    </tr>\n",
       "  </thead>\n",
       "  <tbody>\n",
       "    <tr>\n",
       "      <th>0</th>\n",
       "      <td>3.0</td>\n",
       "      <td>1</td>\n",
       "      <td>1.0</td>\n",
       "      <td>1</td>\n",
       "      <td>1454.0</td>\n",
       "      <td>1.0</td>\n",
       "      <td>2.0</td>\n",
       "      <td>2.0</td>\n",
       "      <td>2</td>\n",
       "      <td>1</td>\n",
       "      <td>...</td>\n",
       "      <td>1</td>\n",
       "      <td>2.0</td>\n",
       "      <td>5.0</td>\n",
       "      <td>10.0</td>\n",
       "      <td>20.0</td>\n",
       "      <td>2.0</td>\n",
       "      <td>2</td>\n",
       "      <td>11</td>\n",
       "      <td>4.0</td>\n",
       "      <td>5.0</td>\n",
       "    </tr>\n",
       "    <tr>\n",
       "      <th>1</th>\n",
       "      <td>1.0</td>\n",
       "      <td>2</td>\n",
       "      <td>1.0</td>\n",
       "      <td>1</td>\n",
       "      <td>NaN</td>\n",
       "      <td>2.0</td>\n",
       "      <td>2.0</td>\n",
       "      <td>1.0</td>\n",
       "      <td>1</td>\n",
       "      <td>1</td>\n",
       "      <td>...</td>\n",
       "      <td>1</td>\n",
       "      <td>2.0</td>\n",
       "      <td>3.0</td>\n",
       "      <td>88.0</td>\n",
       "      <td>88.0</td>\n",
       "      <td>1.0</td>\n",
       "      <td>2</td>\n",
       "      <td>10</td>\n",
       "      <td>6.0</td>\n",
       "      <td>77.0</td>\n",
       "    </tr>\n",
       "    <tr>\n",
       "      <th>2</th>\n",
       "      <td>1.0</td>\n",
       "      <td>2</td>\n",
       "      <td>2.0</td>\n",
       "      <td>1</td>\n",
       "      <td>2829.0</td>\n",
       "      <td>2.0</td>\n",
       "      <td>2.0</td>\n",
       "      <td>1.0</td>\n",
       "      <td>2</td>\n",
       "      <td>1</td>\n",
       "      <td>...</td>\n",
       "      <td>1</td>\n",
       "      <td>2.0</td>\n",
       "      <td>2.0</td>\n",
       "      <td>88.0</td>\n",
       "      <td>88.0</td>\n",
       "      <td>2.0</td>\n",
       "      <td>2</td>\n",
       "      <td>11</td>\n",
       "      <td>4.0</td>\n",
       "      <td>3.0</td>\n",
       "    </tr>\n",
       "    <tr>\n",
       "      <th>3</th>\n",
       "      <td>1.0</td>\n",
       "      <td>2</td>\n",
       "      <td>1.0</td>\n",
       "      <td>1</td>\n",
       "      <td>3347.0</td>\n",
       "      <td>2.0</td>\n",
       "      <td>2.0</td>\n",
       "      <td>2.0</td>\n",
       "      <td>1</td>\n",
       "      <td>1</td>\n",
       "      <td>...</td>\n",
       "      <td>1</td>\n",
       "      <td>2.0</td>\n",
       "      <td>2.0</td>\n",
       "      <td>10.0</td>\n",
       "      <td>88.0</td>\n",
       "      <td>2.0</td>\n",
       "      <td>2</td>\n",
       "      <td>9</td>\n",
       "      <td>4.0</td>\n",
       "      <td>7.0</td>\n",
       "    </tr>\n",
       "    <tr>\n",
       "      <th>4</th>\n",
       "      <td>1.0</td>\n",
       "      <td>1</td>\n",
       "      <td>1.0</td>\n",
       "      <td>1</td>\n",
       "      <td>2873.0</td>\n",
       "      <td>2.0</td>\n",
       "      <td>1.0</td>\n",
       "      <td>1.0</td>\n",
       "      <td>1</td>\n",
       "      <td>1</td>\n",
       "      <td>...</td>\n",
       "      <td>1</td>\n",
       "      <td>2.0</td>\n",
       "      <td>5.0</td>\n",
       "      <td>88.0</td>\n",
       "      <td>30.0</td>\n",
       "      <td>1.0</td>\n",
       "      <td>1</td>\n",
       "      <td>12</td>\n",
       "      <td>3.0</td>\n",
       "      <td>4.0</td>\n",
       "    </tr>\n",
       "  </tbody>\n",
       "</table>\n",
       "<p>5 rows × 22 columns</p>\n",
       "</div>"
      ],
      "text/plain": [
       "   DIABETE4  _RFHYPE6  TOLDHI3  _CHOLCH3   _BMI5  SMOKE100  CVDSTRK3  _MICHD  \\\n",
       "0       3.0         1      1.0         1  1454.0       1.0       2.0     2.0   \n",
       "1       1.0         2      1.0         1     NaN       2.0       2.0     1.0   \n",
       "2       1.0         2      2.0         1  2829.0       2.0       2.0     1.0   \n",
       "3       1.0         2      1.0         1  3347.0       2.0       2.0     2.0   \n",
       "4       1.0         1      1.0         1  2873.0       2.0       1.0     1.0   \n",
       "\n",
       "   _TOTINDA  _FRTLT1A  ...  _HLTHPLN  MEDCOST1  GENHLTH  MENTHLTH  PHYSHLTH  \\\n",
       "0         2         1  ...         1       2.0      5.0      10.0      20.0   \n",
       "1         1         1  ...         1       2.0      3.0      88.0      88.0   \n",
       "2         2         1  ...         1       2.0      2.0      88.0      88.0   \n",
       "3         1         1  ...         1       2.0      2.0      10.0      88.0   \n",
       "4         1         1  ...         1       2.0      5.0      88.0      30.0   \n",
       "\n",
       "   DIFFWALK  _SEX  _AGEG5YR  EDUCA  INCOME3  \n",
       "0       2.0     2        11    4.0      5.0  \n",
       "1       1.0     2        10    6.0     77.0  \n",
       "2       2.0     2        11    4.0      3.0  \n",
       "3       2.0     2         9    4.0      7.0  \n",
       "4       1.0     1        12    3.0      4.0  \n",
       "\n",
       "[5 rows x 22 columns]"
      ]
     },
     "execution_count": 132,
     "metadata": {},
     "output_type": "execute_result"
    }
   ],
   "source": [
    "diabetes_extracted.head()"
   ]
  },
  {
   "cell_type": "markdown",
   "id": "6395b1c7",
   "metadata": {},
   "source": [
    "### Step 2: Tackle the Missing Values\n",
    "\n",
    "There are missing values in many variable columns because the survey respondents failed to provide answers for these questions.\n",
    "\n",
    "These missing values have to be tackled before we proceed with further analysis and model building. By calling the `.dropna()` method on the DataFrame, rows containing any missing values are eliminated."
   ]
  },
  {
   "cell_type": "code",
   "execution_count": 133,
   "id": "68ab2047",
   "metadata": {},
   "outputs": [
    {
     "data": {
      "text/plain": [
       "(330355, 22)"
      ]
     },
     "execution_count": 133,
     "metadata": {},
     "output_type": "execute_result"
    }
   ],
   "source": [
    "diabetes_extracted = diabetes_extracted.dropna()\n",
    "diabetes_extracted.shape"
   ]
  },
  {
   "cell_type": "markdown",
   "id": "1c119683",
   "metadata": {},
   "source": [
    "### Step 3: Modify and clean the values to be more suitable to ML algorithms\n",
    "\n"
   ]
  },
  {
   "cell_type": "code",
   "execution_count": 134,
   "id": "69fed032",
   "metadata": {},
   "outputs": [
    {
     "data": {
      "text/plain": [
       "array([0., 1.])"
      ]
     },
     "execution_count": 134,
     "metadata": {},
     "output_type": "execute_result"
    }
   ],
   "source": [
    "# Making this ordinal. 0 is for no diabetes, only during pregnancy, borderline diabetes or pre-diabetes, 1 is for yes diabetes, remove all 7 (dont knows) and 9 (refused)\n",
    "diabetes_extracted['DIABETE4'] = diabetes_extracted['DIABETE4'].replace({2:0, 3:0, 1:1, 4:0})\n",
    "diabetes_extracted = diabetes_extracted[diabetes_extracted.DIABETE4 != 7]\n",
    "diabetes_extracted = diabetes_extracted[diabetes_extracted.DIABETE4 != 9]\n",
    "diabetes_extracted.DIABETE4.unique()"
   ]
  },
  {
   "cell_type": "code",
   "execution_count": 135,
   "id": "b54069b0",
   "metadata": {},
   "outputs": [
    {
     "data": {
      "text/plain": [
       "array([0, 1])"
      ]
     },
     "execution_count": 135,
     "metadata": {},
     "output_type": "execute_result"
    }
   ],
   "source": [
    "#Change 1 to 0 which represents No high blood pressure and 2 to 1 to represent high blood pressure\n",
    "diabetes_extracted['_RFHYPE6'] = diabetes_extracted['_RFHYPE6'].replace({1:0, 2:1})\n",
    "diabetes_extracted = diabetes_extracted[diabetes_extracted._RFHYPE6 != 9]\n",
    "diabetes_extracted._RFHYPE6.unique()"
   ]
  },
  {
   "cell_type": "code",
   "execution_count": 136,
   "id": "c9002e62",
   "metadata": {},
   "outputs": [
    {
     "data": {
      "text/plain": [
       "array([1., 0.])"
      ]
     },
     "execution_count": 136,
     "metadata": {},
     "output_type": "execute_result"
    }
   ],
   "source": [
    "# Change 2 to 0 because it is No, remove all 7 (dont knows) and all 9 (refused)\n",
    "diabetes_extracted['TOLDHI3'] = diabetes_extracted['TOLDHI3'].replace({2:0})\n",
    "diabetes_extracted = diabetes_extracted[diabetes_extracted.TOLDHI3 != 7]\n",
    "diabetes_extracted = diabetes_extracted[diabetes_extracted.TOLDHI3 != 9]\n",
    "diabetes_extracted.TOLDHI3.unique()"
   ]
  },
  {
   "cell_type": "code",
   "execution_count": 137,
   "id": "b4462c13",
   "metadata": {},
   "outputs": [
    {
     "data": {
      "text/plain": [
       "array([1, 0])"
      ]
     },
     "execution_count": 137,
     "metadata": {},
     "output_type": "execute_result"
    }
   ],
   "source": [
    "# Change 3 to 0 and 2 to 0 for Not checked cholesterol in past 5 years, remove 9 (don't know/refused)\n",
    "diabetes_extracted['_CHOLCH3'] = diabetes_extracted['_CHOLCH3'].replace({3:0,2:0})\n",
    "diabetes_extracted = diabetes_extracted[diabetes_extracted._CHOLCH3 != 9]\n",
    "diabetes_extracted._CHOLCH3.unique()"
   ]
  },
  {
   "cell_type": "code",
   "execution_count": 138,
   "id": "1fb2d60e",
   "metadata": {},
   "outputs": [
    {
     "data": {
      "text/plain": [
       "array([15., 28., 33., 29., 24., 46., 23., 40., 27., 35., 18., 30., 25.,\n",
       "       36., 22., 31., 45., 26., 14., 38., 21., 32., 20., 19., 34., 41.,\n",
       "       43., 44., 39., 37., 16., 42., 50., 51., 17., 52., 47., 49., 56.,\n",
       "       57., 48., 58., 61., 53., 63., 64., 54., 68., 55., 62., 13., 59.,\n",
       "       89., 66., 77., 60., 87., 69., 72., 75., 67., 71., 65., 82., 86.,\n",
       "       70., 78., 12., 74., 98., 73., 84., 76., 80., 83., 79., 99., 88.,\n",
       "       81., 90., 92., 91., 95., 85., 94.])"
      ]
     },
     "execution_count": 138,
     "metadata": {},
     "output_type": "execute_result"
    }
   ],
   "source": [
    "# BMI are * 100\n",
    "diabetes_extracted['_BMI5'] = diabetes_extracted['_BMI5'].div(100).round(0)\n",
    "diabetes_extracted._BMI5.unique()"
   ]
  },
  {
   "cell_type": "code",
   "execution_count": 139,
   "id": "a9212fcb",
   "metadata": {},
   "outputs": [
    {
     "data": {
      "text/plain": [
       "array([1., 0.])"
      ]
     },
     "execution_count": 139,
     "metadata": {},
     "output_type": "execute_result"
    }
   ],
   "source": [
    "# Change 2 to 0 because it is No, remove all 7 (dont knows) and all 9 (refused)\n",
    "diabetes_extracted['SMOKE100'] = diabetes_extracted['SMOKE100'].replace({2:0})\n",
    "diabetes_extracted = diabetes_extracted[diabetes_extracted.SMOKE100 != 7]\n",
    "diabetes_extracted = diabetes_extracted[diabetes_extracted.SMOKE100 != 9]\n",
    "diabetes_extracted.SMOKE100.unique()"
   ]
  },
  {
   "cell_type": "code",
   "execution_count": 140,
   "id": "6f7ac9c0",
   "metadata": {},
   "outputs": [
    {
     "data": {
      "text/plain": [
       "array([0., 1.])"
      ]
     },
     "execution_count": 140,
     "metadata": {},
     "output_type": "execute_result"
    }
   ],
   "source": [
    "# Change 2 to 0 because it is No, remove all 7 (dont knows) and all 9 (refused)\n",
    "diabetes_extracted['CVDSTRK3'] = diabetes_extracted['CVDSTRK3'].replace({2:0})\n",
    "diabetes_extracted = diabetes_extracted[diabetes_extracted.CVDSTRK3 != 7]\n",
    "diabetes_extracted = diabetes_extracted[diabetes_extracted.CVDSTRK3 != 9]\n",
    "diabetes_extracted.CVDSTRK3.unique()"
   ]
  },
  {
   "cell_type": "code",
   "execution_count": 141,
   "id": "0ab31997",
   "metadata": {},
   "outputs": [
    {
     "data": {
      "text/plain": [
       "array([0., 1.])"
      ]
     },
     "execution_count": 141,
     "metadata": {},
     "output_type": "execute_result"
    }
   ],
   "source": [
    "# Change 2 to 0 because this means they do not have MI or CHD\n",
    "diabetes_extracted['_MICHD'] = diabetes_extracted['_MICHD'].replace({2: 0})\n",
    "diabetes_extracted._MICHD.unique()"
   ]
  },
  {
   "cell_type": "code",
   "execution_count": 142,
   "id": "f6e3af59",
   "metadata": {},
   "outputs": [
    {
     "data": {
      "text/plain": [
       "array([0, 1])"
      ]
     },
     "execution_count": 142,
     "metadata": {},
     "output_type": "execute_result"
    }
   ],
   "source": [
    "# Change 2 to 0 for no physical activites and remove all 9 (don't know/refused)\n",
    "diabetes_extracted['_TOTINDA'] = diabetes_extracted['_TOTINDA'].replace({2:0})\n",
    "diabetes_extracted = diabetes_extracted[diabetes_extracted._TOTINDA != 9]\n",
    "diabetes_extracted._TOTINDA.unique()"
   ]
  },
  {
   "cell_type": "code",
   "execution_count": 143,
   "id": "43e50685",
   "metadata": {},
   "outputs": [
    {
     "data": {
      "text/plain": [
       "array([1, 0])"
      ]
     },
     "execution_count": 143,
     "metadata": {},
     "output_type": "execute_result"
    }
   ],
   "source": [
    "# Change 2 to 0. this means no fruit consumed per day. 1 will mean consumed 1 or more pieces of fruit per day and remove all 9 (don't know/refused)\n",
    "diabetes_extracted['_FRTLT1A'] = diabetes_extracted['_FRTLT1A'].replace({2:0})\n",
    "diabetes_extracted = diabetes_extracted[diabetes_extracted._FRTLT1A != 9]\n",
    "diabetes_extracted._FRTLT1A.unique()\n"
   ]
  },
  {
   "cell_type": "code",
   "execution_count": 144,
   "id": "6b7bc54a",
   "metadata": {},
   "outputs": [
    {
     "data": {
      "text/plain": [
       "array([1, 0])"
      ]
     },
     "execution_count": 144,
     "metadata": {},
     "output_type": "execute_result"
    }
   ],
   "source": [
    "# Change 2 to 0. this means no vegetables consumed per day. 1 will mean consumed 1 or more pieces of vegetable per day and remove all 9 (don't know/refused)\n",
    "diabetes_extracted['_VEGLT1A'] = diabetes_extracted['_VEGLT1A'].replace({2:0})\n",
    "diabetes_extracted = diabetes_extracted[diabetes_extracted._VEGLT1A != 9]\n",
    "diabetes_extracted._VEGLT1A.unique()"
   ]
  },
  {
   "cell_type": "code",
   "execution_count": 145,
   "id": "8faf1c0f",
   "metadata": {},
   "outputs": [
    {
     "data": {
      "text/plain": [
       "array([0, 1])"
      ]
     },
     "execution_count": 145,
     "metadata": {},
     "output_type": "execute_result"
    }
   ],
   "source": [
    "# Change 1 to 0 (1 was no for heavy drinking). change all 2 to 1 (2 was yes for heavy drinking) and remove all 9 (don't know/refused)\n",
    "diabetes_extracted['_RFDRHV7'] = diabetes_extracted['_RFDRHV7'].replace({1:0, 2:1})\n",
    "diabetes_extracted = diabetes_extracted[diabetes_extracted._RFDRHV7 != 9]\n",
    "diabetes_extracted._RFDRHV7.unique()"
   ]
  },
  {
   "cell_type": "code",
   "execution_count": 146,
   "id": "9dbfd004",
   "metadata": {},
   "outputs": [
    {
     "data": {
      "text/plain": [
       "array([10.,  0.,  5., 25.,  2.,  7., 30.,  3., 14., 20.,  8.,  1., 15.,\n",
       "        4., 28., 24., 21., 12.,  6., 22., 27., 18., 13., 17., 16.,  9.,\n",
       "       19., 29., 23., 11., 26.])"
      ]
     },
     "execution_count": 146,
     "metadata": {},
     "output_type": "execute_result"
    }
   ],
   "source": [
    "# In days, scale will be between 0-30\n",
    "# Change 88 to 0 because it means none (no bad mental health days), remove all 77 (dont knows) and all 99 (refused)\n",
    "diabetes_extracted['MENTHLTH'] = diabetes_extracted['MENTHLTH'].replace({88:0})\n",
    "diabetes_extracted = diabetes_extracted[diabetes_extracted.MENTHLTH != 77]\n",
    "diabetes_extracted = diabetes_extracted[diabetes_extracted.MENTHLTH != 99]\n",
    "diabetes_extracted.MENTHLTH.unique()\n"
   ]
  },
  {
   "cell_type": "code",
   "execution_count": 147,
   "id": "82bd6ea9",
   "metadata": {},
   "outputs": [
    {
     "data": {
      "text/plain": [
       "array([20.,  0., 30., 25.,  1.,  4., 10.,  2.,  3., 15.,  8., 13., 14.,\n",
       "        5.,  7.,  6., 24., 29., 18.,  9., 16., 17., 26., 28., 12., 21.,\n",
       "       27., 11., 19., 22., 23.])"
      ]
     },
     "execution_count": 147,
     "metadata": {},
     "output_type": "execute_result"
    }
   ],
   "source": [
    "# In days, scale will be between 0-30\n",
    "# Change 88 to 0 because it means none (no bad physical health days), remove all 77 (dont knows) and all 99 (refused)\n",
    "diabetes_extracted['PHYSHLTH'] = diabetes_extracted['PHYSHLTH'].replace({88:0})\n",
    "diabetes_extracted = diabetes_extracted[diabetes_extracted.PHYSHLTH != 77]\n",
    "diabetes_extracted = diabetes_extracted[diabetes_extracted.PHYSHLTH != 99]\n",
    "diabetes_extracted.PHYSHLTH.unique()"
   ]
  },
  {
   "cell_type": "code",
   "execution_count": 148,
   "id": "09202118",
   "metadata": {},
   "outputs": [
    {
     "data": {
      "text/plain": [
       "array([0., 1.])"
      ]
     },
     "execution_count": 148,
     "metadata": {},
     "output_type": "execute_result"
    }
   ],
   "source": [
    "# Change 2 to 0 for no, remove all 7 (dont knows) and all 9 (refused)\n",
    "diabetes_extracted['DIFFWALK'] = diabetes_extracted['DIFFWALK'].replace({2:0})\n",
    "diabetes_extracted = diabetes_extracted[diabetes_extracted.DIFFWALK != 7]\n",
    "diabetes_extracted = diabetes_extracted[diabetes_extracted.DIFFWALK != 9]\n",
    "diabetes_extracted.DIFFWALK.unique()"
   ]
  },
  {
   "cell_type": "code",
   "execution_count": 149,
   "id": "fbcc1aec",
   "metadata": {},
   "outputs": [
    {
     "data": {
      "text/plain": [
       "array([0, 1])"
      ]
     },
     "execution_count": 149,
     "metadata": {},
     "output_type": "execute_result"
    }
   ],
   "source": [
    "# Men are at higher risk for heart disease \n",
    "#Change 2 to 0 (female as 0)\n",
    "diabetes_extracted['_SEX'] = diabetes_extracted['_SEX'].replace({2:0})\n",
    "diabetes_extracted._SEX.unique()"
   ]
  },
  {
   "cell_type": "code",
   "execution_count": 150,
   "id": "d18073f5",
   "metadata": {},
   "outputs": [
    {
     "data": {
      "text/plain": [
       "array([11,  9, 12, 13, 10,  7,  6,  8,  1,  4,  3,  5,  2])"
      ]
     },
     "execution_count": 150,
     "metadata": {},
     "output_type": "execute_result"
    }
   ],
   "source": [
    "# 5 year increments. It is already ordinal. 1 is 18-24 all the way up to 13 which is 80 and older and remove all 14 (don't know or missing)\n",
    "diabetes_extracted = diabetes_extracted[diabetes_extracted._AGEG5YR != 14]\n",
    "diabetes_extracted._AGEG5YR.unique()"
   ]
  },
  {
   "cell_type": "code",
   "execution_count": 151,
   "id": "65fd8b37",
   "metadata": {},
   "outputs": [
    {
     "data": {
      "text/plain": [
       "array([4., 3., 5., 6., 2., 1.])"
      ]
     },
     "execution_count": 151,
     "metadata": {},
     "output_type": "execute_result"
    }
   ],
   "source": [
    "# This is already an ordinal variable with 1 being never attended school or kindergarten only up to 6 being college 4 years or more\n",
    "# Scale here is 1-6, remove all 9 (refused)\n",
    "diabetes_extracted = diabetes_extracted[diabetes_extracted.EDUCA != 9]\n",
    "diabetes_extracted.EDUCA.unique()"
   ]
  },
  {
   "cell_type": "code",
   "execution_count": 152,
   "id": "242634bd",
   "metadata": {},
   "outputs": [
    {
     "data": {
      "text/plain": [
       "array([1, 0])"
      ]
     },
     "execution_count": 152,
     "metadata": {},
     "output_type": "execute_result"
    }
   ],
   "source": [
    "# Change 2 to 0 for no health insurance and remove all 9 (don't know/refused)\n",
    "diabetes_extracted['_HLTHPLN'] = diabetes_extracted['_HLTHPLN'].replace({2:0})\n",
    "diabetes_extracted = diabetes_extracted[diabetes_extracted._HLTHPLN != 7]\n",
    "diabetes_extracted = diabetes_extracted[diabetes_extracted._HLTHPLN != 9]\n",
    "diabetes_extracted._HLTHPLN.unique()"
   ]
  },
  {
   "cell_type": "code",
   "execution_count": 153,
   "id": "3dc191bf",
   "metadata": {},
   "outputs": [
    {
     "data": {
      "text/plain": [
       "array([0., 1.])"
      ]
     },
     "execution_count": 153,
     "metadata": {},
     "output_type": "execute_result"
    }
   ],
   "source": [
    "# Change 2 to 0 for no, remove all 7 (dont knows) and remove all 9 (refused)\n",
    "diabetes_extracted['MEDCOST1'] = diabetes_extracted['MEDCOST1'].replace({2:0})\n",
    "diabetes_extracted = diabetes_extracted[diabetes_extracted.MEDCOST1 != 7]\n",
    "diabetes_extracted = diabetes_extracted[diabetes_extracted.MEDCOST1 != 9]\n",
    "diabetes_extracted.MEDCOST1.unique()"
   ]
  },
  {
   "cell_type": "code",
   "execution_count": 154,
   "id": "8d43ae30",
   "metadata": {},
   "outputs": [
    {
     "data": {
      "text/plain": [
       "array([5., 2., 3., 4., 1.])"
      ]
     },
     "execution_count": 154,
     "metadata": {},
     "output_type": "execute_result"
    }
   ],
   "source": [
    "# 1 is Excellent -> 5 is Poor, remove all 7 (dont knows) and all 9 (refused)\n",
    "diabetes_extracted = diabetes_extracted[diabetes_extracted.GENHLTH != 7]\n",
    "diabetes_extracted = diabetes_extracted[diabetes_extracted.GENHLTH != 9]\n",
    "diabetes_extracted.GENHLTH.unique()"
   ]
  },
  {
   "cell_type": "code",
   "execution_count": 155,
   "id": "a973864c",
   "metadata": {},
   "outputs": [
    {
     "data": {
      "text/plain": [
       "array([ 5.,  3.,  7.,  4.,  6.,  8.,  2.,  9., 10.,  1., 11.])"
      ]
     },
     "execution_count": 155,
     "metadata": {},
     "output_type": "execute_result"
    }
   ],
   "source": [
    "# INCOME3 = Income Level\n",
    "# This is already an ordinal variable with 1 being less than $10,000 all the way up to 11 being $200,000 or more\n",
    "# Remove all 77 (dont knows)\n",
    "# Remove all 99 (refused)\n",
    "diabetes_extracted = diabetes_extracted[diabetes_extracted.INCOME3 != 77]\n",
    "diabetes_extracted = diabetes_extracted[diabetes_extracted.INCOME3 != 99]\n",
    "diabetes_extracted.INCOME3.unique()"
   ]
  },
  {
   "cell_type": "code",
   "execution_count": 156,
   "id": "cb49b343",
   "metadata": {},
   "outputs": [
    {
     "data": {
      "text/plain": [
       "(236378, 22)"
      ]
     },
     "execution_count": 156,
     "metadata": {},
     "output_type": "execute_result"
    }
   ],
   "source": [
    "diabetes_extracted.shape"
   ]
  },
  {
   "cell_type": "code",
   "execution_count": 157,
   "id": "1fb40f56",
   "metadata": {},
   "outputs": [
    {
     "data": {
      "text/html": [
       "<div>\n",
       "<style scoped>\n",
       "    .dataframe tbody tr th:only-of-type {\n",
       "        vertical-align: middle;\n",
       "    }\n",
       "\n",
       "    .dataframe tbody tr th {\n",
       "        vertical-align: top;\n",
       "    }\n",
       "\n",
       "    .dataframe thead th {\n",
       "        text-align: right;\n",
       "    }\n",
       "</style>\n",
       "<table border=\"1\" class=\"dataframe\">\n",
       "  <thead>\n",
       "    <tr style=\"text-align: right;\">\n",
       "      <th></th>\n",
       "      <th>DIABETE4</th>\n",
       "      <th>_RFHYPE6</th>\n",
       "      <th>TOLDHI3</th>\n",
       "      <th>_CHOLCH3</th>\n",
       "      <th>_BMI5</th>\n",
       "      <th>SMOKE100</th>\n",
       "      <th>CVDSTRK3</th>\n",
       "      <th>_MICHD</th>\n",
       "      <th>_TOTINDA</th>\n",
       "      <th>_FRTLT1A</th>\n",
       "      <th>...</th>\n",
       "      <th>_HLTHPLN</th>\n",
       "      <th>MEDCOST1</th>\n",
       "      <th>GENHLTH</th>\n",
       "      <th>MENTHLTH</th>\n",
       "      <th>PHYSHLTH</th>\n",
       "      <th>DIFFWALK</th>\n",
       "      <th>_SEX</th>\n",
       "      <th>_AGEG5YR</th>\n",
       "      <th>EDUCA</th>\n",
       "      <th>INCOME3</th>\n",
       "    </tr>\n",
       "  </thead>\n",
       "  <tbody>\n",
       "    <tr>\n",
       "      <th>0</th>\n",
       "      <td>0.0</td>\n",
       "      <td>0</td>\n",
       "      <td>1.0</td>\n",
       "      <td>1</td>\n",
       "      <td>15.0</td>\n",
       "      <td>1.0</td>\n",
       "      <td>0.0</td>\n",
       "      <td>0.0</td>\n",
       "      <td>0</td>\n",
       "      <td>1</td>\n",
       "      <td>...</td>\n",
       "      <td>1</td>\n",
       "      <td>0.0</td>\n",
       "      <td>5.0</td>\n",
       "      <td>10.0</td>\n",
       "      <td>20.0</td>\n",
       "      <td>0.0</td>\n",
       "      <td>0</td>\n",
       "      <td>11</td>\n",
       "      <td>4.0</td>\n",
       "      <td>5.0</td>\n",
       "    </tr>\n",
       "    <tr>\n",
       "      <th>2</th>\n",
       "      <td>1.0</td>\n",
       "      <td>1</td>\n",
       "      <td>0.0</td>\n",
       "      <td>1</td>\n",
       "      <td>28.0</td>\n",
       "      <td>0.0</td>\n",
       "      <td>0.0</td>\n",
       "      <td>1.0</td>\n",
       "      <td>0</td>\n",
       "      <td>1</td>\n",
       "      <td>...</td>\n",
       "      <td>1</td>\n",
       "      <td>0.0</td>\n",
       "      <td>2.0</td>\n",
       "      <td>0.0</td>\n",
       "      <td>0.0</td>\n",
       "      <td>0.0</td>\n",
       "      <td>0</td>\n",
       "      <td>11</td>\n",
       "      <td>4.0</td>\n",
       "      <td>3.0</td>\n",
       "    </tr>\n",
       "    <tr>\n",
       "      <th>3</th>\n",
       "      <td>1.0</td>\n",
       "      <td>1</td>\n",
       "      <td>1.0</td>\n",
       "      <td>1</td>\n",
       "      <td>33.0</td>\n",
       "      <td>0.0</td>\n",
       "      <td>0.0</td>\n",
       "      <td>0.0</td>\n",
       "      <td>1</td>\n",
       "      <td>1</td>\n",
       "      <td>...</td>\n",
       "      <td>1</td>\n",
       "      <td>0.0</td>\n",
       "      <td>2.0</td>\n",
       "      <td>10.0</td>\n",
       "      <td>0.0</td>\n",
       "      <td>0.0</td>\n",
       "      <td>0</td>\n",
       "      <td>9</td>\n",
       "      <td>4.0</td>\n",
       "      <td>7.0</td>\n",
       "    </tr>\n",
       "    <tr>\n",
       "      <th>4</th>\n",
       "      <td>1.0</td>\n",
       "      <td>0</td>\n",
       "      <td>1.0</td>\n",
       "      <td>1</td>\n",
       "      <td>29.0</td>\n",
       "      <td>0.0</td>\n",
       "      <td>1.0</td>\n",
       "      <td>1.0</td>\n",
       "      <td>1</td>\n",
       "      <td>1</td>\n",
       "      <td>...</td>\n",
       "      <td>1</td>\n",
       "      <td>0.0</td>\n",
       "      <td>5.0</td>\n",
       "      <td>0.0</td>\n",
       "      <td>30.0</td>\n",
       "      <td>1.0</td>\n",
       "      <td>1</td>\n",
       "      <td>12</td>\n",
       "      <td>3.0</td>\n",
       "      <td>4.0</td>\n",
       "    </tr>\n",
       "    <tr>\n",
       "      <th>5</th>\n",
       "      <td>0.0</td>\n",
       "      <td>0</td>\n",
       "      <td>0.0</td>\n",
       "      <td>1</td>\n",
       "      <td>24.0</td>\n",
       "      <td>1.0</td>\n",
       "      <td>0.0</td>\n",
       "      <td>0.0</td>\n",
       "      <td>0</td>\n",
       "      <td>0</td>\n",
       "      <td>...</td>\n",
       "      <td>1</td>\n",
       "      <td>0.0</td>\n",
       "      <td>3.0</td>\n",
       "      <td>0.0</td>\n",
       "      <td>0.0</td>\n",
       "      <td>1.0</td>\n",
       "      <td>1</td>\n",
       "      <td>13</td>\n",
       "      <td>5.0</td>\n",
       "      <td>6.0</td>\n",
       "    </tr>\n",
       "  </tbody>\n",
       "</table>\n",
       "<p>5 rows × 22 columns</p>\n",
       "</div>"
      ],
      "text/plain": [
       "   DIABETE4  _RFHYPE6  TOLDHI3  _CHOLCH3  _BMI5  SMOKE100  CVDSTRK3  _MICHD  \\\n",
       "0       0.0         0      1.0         1   15.0       1.0       0.0     0.0   \n",
       "2       1.0         1      0.0         1   28.0       0.0       0.0     1.0   \n",
       "3       1.0         1      1.0         1   33.0       0.0       0.0     0.0   \n",
       "4       1.0         0      1.0         1   29.0       0.0       1.0     1.0   \n",
       "5       0.0         0      0.0         1   24.0       1.0       0.0     0.0   \n",
       "\n",
       "   _TOTINDA  _FRTLT1A  ...  _HLTHPLN  MEDCOST1  GENHLTH  MENTHLTH  PHYSHLTH  \\\n",
       "0         0         1  ...         1       0.0      5.0      10.0      20.0   \n",
       "2         0         1  ...         1       0.0      2.0       0.0       0.0   \n",
       "3         1         1  ...         1       0.0      2.0      10.0       0.0   \n",
       "4         1         1  ...         1       0.0      5.0       0.0      30.0   \n",
       "5         0         0  ...         1       0.0      3.0       0.0       0.0   \n",
       "\n",
       "   DIFFWALK  _SEX  _AGEG5YR  EDUCA  INCOME3  \n",
       "0       0.0     0        11    4.0      5.0  \n",
       "2       0.0     0        11    4.0      3.0  \n",
       "3       0.0     0         9    4.0      7.0  \n",
       "4       1.0     1        12    3.0      4.0  \n",
       "5       1.0     1        13    5.0      6.0  \n",
       "\n",
       "[5 rows x 22 columns]"
      ]
     },
     "execution_count": 157,
     "metadata": {},
     "output_type": "execute_result"
    }
   ],
   "source": [
    "diabetes_extracted.head()"
   ]
  },
  {
   "cell_type": "code",
   "execution_count": 158,
   "id": "8ce7f468",
   "metadata": {},
   "outputs": [
    {
     "data": {
      "text/plain": [
       "DIABETE4\n",
       "0.0    202810\n",
       "1.0     33568\n",
       "dtype: int64"
      ]
     },
     "execution_count": 158,
     "metadata": {},
     "output_type": "execute_result"
    }
   ],
   "source": [
    "#Check Class Sizes of the heart disease column\n",
    "diabetes_extracted.groupby(['DIABETE4']).size()"
   ]
  },
  {
   "cell_type": "markdown",
   "id": "841a1b69",
   "metadata": {},
   "source": [
    "### Step 4: Make feature names more readable¶"
   ]
  },
  {
   "cell_type": "code",
   "execution_count": 159,
   "id": "1dc834d8",
   "metadata": {},
   "outputs": [],
   "source": [
    "#Rename the columns to make them more readable\n",
    "diabetes = diabetes_extracted.rename(columns = {'DIABETE4':'Diabetes_binary', '_RFHYPE6':'HighBP', 'TOLDHI3':'HighChol', '_CHOLCH3':'CholCheck', '_BMI5':'BMI', 'SMOKE100':'Smoker', 'CVDSTRK3':'Stroke', '_MICHD':'HeartDiseaseorAttack', '_TOTINDA':'PhysActivity', '_FRTLT1A':'Fruits', '_VEGLT1A':\"Veg\", '_RFDRHV7':'HvyAlcoholConsump', 'MENTHLTH':'MentHlth', 'PHYSHLTH':'PhysHlth', 'DIFFWALK':'DiffWalk', '_SEX':'Sex', '_AGEG5YR':'Age', 'EDUCA':'Education'})"
   ]
  },
  {
   "cell_type": "code",
   "execution_count": 160,
   "id": "a8a50735",
   "metadata": {},
   "outputs": [
    {
     "data": {
      "text/html": [
       "<div>\n",
       "<style scoped>\n",
       "    .dataframe tbody tr th:only-of-type {\n",
       "        vertical-align: middle;\n",
       "    }\n",
       "\n",
       "    .dataframe tbody tr th {\n",
       "        vertical-align: top;\n",
       "    }\n",
       "\n",
       "    .dataframe thead th {\n",
       "        text-align: right;\n",
       "    }\n",
       "</style>\n",
       "<table border=\"1\" class=\"dataframe\">\n",
       "  <thead>\n",
       "    <tr style=\"text-align: right;\">\n",
       "      <th></th>\n",
       "      <th>Diabetes_binary</th>\n",
       "      <th>HighBP</th>\n",
       "      <th>HighChol</th>\n",
       "      <th>CholCheck</th>\n",
       "      <th>BMI</th>\n",
       "      <th>Smoker</th>\n",
       "      <th>Stroke</th>\n",
       "      <th>HeartDiseaseorAttack</th>\n",
       "      <th>PhysActivity</th>\n",
       "      <th>Fruits</th>\n",
       "      <th>...</th>\n",
       "      <th>_HLTHPLN</th>\n",
       "      <th>MEDCOST1</th>\n",
       "      <th>GENHLTH</th>\n",
       "      <th>MentHlth</th>\n",
       "      <th>PhysHlth</th>\n",
       "      <th>DiffWalk</th>\n",
       "      <th>Sex</th>\n",
       "      <th>Age</th>\n",
       "      <th>Education</th>\n",
       "      <th>INCOME3</th>\n",
       "    </tr>\n",
       "  </thead>\n",
       "  <tbody>\n",
       "    <tr>\n",
       "      <th>0</th>\n",
       "      <td>0.0</td>\n",
       "      <td>0</td>\n",
       "      <td>1.0</td>\n",
       "      <td>1</td>\n",
       "      <td>15.0</td>\n",
       "      <td>1.0</td>\n",
       "      <td>0.0</td>\n",
       "      <td>0.0</td>\n",
       "      <td>0</td>\n",
       "      <td>1</td>\n",
       "      <td>...</td>\n",
       "      <td>1</td>\n",
       "      <td>0.0</td>\n",
       "      <td>5.0</td>\n",
       "      <td>10.0</td>\n",
       "      <td>20.0</td>\n",
       "      <td>0.0</td>\n",
       "      <td>0</td>\n",
       "      <td>11</td>\n",
       "      <td>4.0</td>\n",
       "      <td>5.0</td>\n",
       "    </tr>\n",
       "    <tr>\n",
       "      <th>2</th>\n",
       "      <td>1.0</td>\n",
       "      <td>1</td>\n",
       "      <td>0.0</td>\n",
       "      <td>1</td>\n",
       "      <td>28.0</td>\n",
       "      <td>0.0</td>\n",
       "      <td>0.0</td>\n",
       "      <td>1.0</td>\n",
       "      <td>0</td>\n",
       "      <td>1</td>\n",
       "      <td>...</td>\n",
       "      <td>1</td>\n",
       "      <td>0.0</td>\n",
       "      <td>2.0</td>\n",
       "      <td>0.0</td>\n",
       "      <td>0.0</td>\n",
       "      <td>0.0</td>\n",
       "      <td>0</td>\n",
       "      <td>11</td>\n",
       "      <td>4.0</td>\n",
       "      <td>3.0</td>\n",
       "    </tr>\n",
       "    <tr>\n",
       "      <th>3</th>\n",
       "      <td>1.0</td>\n",
       "      <td>1</td>\n",
       "      <td>1.0</td>\n",
       "      <td>1</td>\n",
       "      <td>33.0</td>\n",
       "      <td>0.0</td>\n",
       "      <td>0.0</td>\n",
       "      <td>0.0</td>\n",
       "      <td>1</td>\n",
       "      <td>1</td>\n",
       "      <td>...</td>\n",
       "      <td>1</td>\n",
       "      <td>0.0</td>\n",
       "      <td>2.0</td>\n",
       "      <td>10.0</td>\n",
       "      <td>0.0</td>\n",
       "      <td>0.0</td>\n",
       "      <td>0</td>\n",
       "      <td>9</td>\n",
       "      <td>4.0</td>\n",
       "      <td>7.0</td>\n",
       "    </tr>\n",
       "    <tr>\n",
       "      <th>4</th>\n",
       "      <td>1.0</td>\n",
       "      <td>0</td>\n",
       "      <td>1.0</td>\n",
       "      <td>1</td>\n",
       "      <td>29.0</td>\n",
       "      <td>0.0</td>\n",
       "      <td>1.0</td>\n",
       "      <td>1.0</td>\n",
       "      <td>1</td>\n",
       "      <td>1</td>\n",
       "      <td>...</td>\n",
       "      <td>1</td>\n",
       "      <td>0.0</td>\n",
       "      <td>5.0</td>\n",
       "      <td>0.0</td>\n",
       "      <td>30.0</td>\n",
       "      <td>1.0</td>\n",
       "      <td>1</td>\n",
       "      <td>12</td>\n",
       "      <td>3.0</td>\n",
       "      <td>4.0</td>\n",
       "    </tr>\n",
       "    <tr>\n",
       "      <th>5</th>\n",
       "      <td>0.0</td>\n",
       "      <td>0</td>\n",
       "      <td>0.0</td>\n",
       "      <td>1</td>\n",
       "      <td>24.0</td>\n",
       "      <td>1.0</td>\n",
       "      <td>0.0</td>\n",
       "      <td>0.0</td>\n",
       "      <td>0</td>\n",
       "      <td>0</td>\n",
       "      <td>...</td>\n",
       "      <td>1</td>\n",
       "      <td>0.0</td>\n",
       "      <td>3.0</td>\n",
       "      <td>0.0</td>\n",
       "      <td>0.0</td>\n",
       "      <td>1.0</td>\n",
       "      <td>1</td>\n",
       "      <td>13</td>\n",
       "      <td>5.0</td>\n",
       "      <td>6.0</td>\n",
       "    </tr>\n",
       "  </tbody>\n",
       "</table>\n",
       "<p>5 rows × 22 columns</p>\n",
       "</div>"
      ],
      "text/plain": [
       "   Diabetes_binary  HighBP  HighChol  CholCheck   BMI  Smoker  Stroke  \\\n",
       "0              0.0       0       1.0          1  15.0     1.0     0.0   \n",
       "2              1.0       1       0.0          1  28.0     0.0     0.0   \n",
       "3              1.0       1       1.0          1  33.0     0.0     0.0   \n",
       "4              1.0       0       1.0          1  29.0     0.0     1.0   \n",
       "5              0.0       0       0.0          1  24.0     1.0     0.0   \n",
       "\n",
       "   HeartDiseaseorAttack  PhysActivity  Fruits  ...  _HLTHPLN  MEDCOST1  \\\n",
       "0                   0.0             0       1  ...         1       0.0   \n",
       "2                   1.0             0       1  ...         1       0.0   \n",
       "3                   0.0             1       1  ...         1       0.0   \n",
       "4                   1.0             1       1  ...         1       0.0   \n",
       "5                   0.0             0       0  ...         1       0.0   \n",
       "\n",
       "   GENHLTH  MentHlth  PhysHlth  DiffWalk  Sex  Age  Education  INCOME3  \n",
       "0      5.0      10.0      20.0       0.0    0   11        4.0      5.0  \n",
       "2      2.0       0.0       0.0       0.0    0   11        4.0      3.0  \n",
       "3      2.0      10.0       0.0       0.0    0    9        4.0      7.0  \n",
       "4      5.0       0.0      30.0       1.0    1   12        3.0      4.0  \n",
       "5      3.0       0.0       0.0       1.0    1   13        5.0      6.0  \n",
       "\n",
       "[5 rows x 22 columns]"
      ]
     },
     "execution_count": 160,
     "metadata": {},
     "output_type": "execute_result"
    }
   ],
   "source": [
    "diabetes.head()"
   ]
  },
  {
   "cell_type": "code",
   "execution_count": 161,
   "id": "0c2d9aba",
   "metadata": {},
   "outputs": [
    {
     "data": {
      "text/plain": [
       "(236378, 22)"
      ]
     },
     "execution_count": 161,
     "metadata": {},
     "output_type": "execute_result"
    }
   ],
   "source": [
    "diabetes.shape"
   ]
  },
  {
   "cell_type": "code",
   "execution_count": 162,
   "id": "c32b182d",
   "metadata": {},
   "outputs": [
    {
     "data": {
      "text/plain": [
       "Diabetes_binary\n",
       "0.0    202810\n",
       "1.0     33568\n",
       "dtype: int64"
      ]
     },
     "execution_count": 162,
     "metadata": {},
     "output_type": "execute_result"
    }
   ],
   "source": [
    "diabetes.groupby(['Diabetes_binary']).size()"
   ]
  },
  {
   "cell_type": "markdown",
   "id": "4eab2f71",
   "metadata": {},
   "source": [
    "### Step 5: Creating a 50-50 binary balanced dataset"
   ]
  },
  {
   "cell_type": "code",
   "execution_count": 163,
   "id": "86a3133a",
   "metadata": {},
   "outputs": [],
   "source": [
    "#Separate the 0(No Diabetes) and 1&2(Pre-diabetes and Diabetes)\n",
    "#Get the 1s\n",
    "is1 = diabetes['Diabetes_binary'] == 1\n",
    "diabetes_5050_1 = diabetes[is1]\n",
    "\n",
    "#Get the 0s\n",
    "is0 = diabetes['Diabetes_binary'] == 0\n",
    "diabetes_5050_0 = diabetes[is0] \n",
    "\n",
    "#Select the 33568 random cases from the 0 (non-diabetes group). we already have 33568 cases from the diabetes risk group\n",
    "diabetes_5050_0_rand1 = diabetes_5050_0.take(np.random.permutation(len(diabetes_5050_0))[:33568])\n",
    "\n",
    "#Append the 33568 1s to the 33568 randomly selected 0s\n",
    "diabetes_5050 = diabetes_5050_0_rand1._append(diabetes_5050_1, ignore_index = True)"
   ]
  },
  {
   "cell_type": "code",
   "execution_count": 164,
   "id": "521740f6",
   "metadata": {},
   "outputs": [
    {
     "data": {
      "text/html": [
       "<div>\n",
       "<style scoped>\n",
       "    .dataframe tbody tr th:only-of-type {\n",
       "        vertical-align: middle;\n",
       "    }\n",
       "\n",
       "    .dataframe tbody tr th {\n",
       "        vertical-align: top;\n",
       "    }\n",
       "\n",
       "    .dataframe thead th {\n",
       "        text-align: right;\n",
       "    }\n",
       "</style>\n",
       "<table border=\"1\" class=\"dataframe\">\n",
       "  <thead>\n",
       "    <tr style=\"text-align: right;\">\n",
       "      <th></th>\n",
       "      <th>Diabetes_binary</th>\n",
       "      <th>HighBP</th>\n",
       "      <th>HighChol</th>\n",
       "      <th>CholCheck</th>\n",
       "      <th>BMI</th>\n",
       "      <th>Smoker</th>\n",
       "      <th>Stroke</th>\n",
       "      <th>HeartDiseaseorAttack</th>\n",
       "      <th>PhysActivity</th>\n",
       "      <th>Fruits</th>\n",
       "      <th>...</th>\n",
       "      <th>_HLTHPLN</th>\n",
       "      <th>MEDCOST1</th>\n",
       "      <th>GENHLTH</th>\n",
       "      <th>MentHlth</th>\n",
       "      <th>PhysHlth</th>\n",
       "      <th>DiffWalk</th>\n",
       "      <th>Sex</th>\n",
       "      <th>Age</th>\n",
       "      <th>Education</th>\n",
       "      <th>INCOME3</th>\n",
       "    </tr>\n",
       "  </thead>\n",
       "  <tbody>\n",
       "    <tr>\n",
       "      <th>0</th>\n",
       "      <td>0.0</td>\n",
       "      <td>1</td>\n",
       "      <td>1.0</td>\n",
       "      <td>1</td>\n",
       "      <td>33.0</td>\n",
       "      <td>1.0</td>\n",
       "      <td>0.0</td>\n",
       "      <td>0.0</td>\n",
       "      <td>1</td>\n",
       "      <td>1</td>\n",
       "      <td>...</td>\n",
       "      <td>1</td>\n",
       "      <td>0.0</td>\n",
       "      <td>3.0</td>\n",
       "      <td>0.0</td>\n",
       "      <td>6.0</td>\n",
       "      <td>0.0</td>\n",
       "      <td>1</td>\n",
       "      <td>9</td>\n",
       "      <td>4.0</td>\n",
       "      <td>7.0</td>\n",
       "    </tr>\n",
       "    <tr>\n",
       "      <th>1</th>\n",
       "      <td>0.0</td>\n",
       "      <td>1</td>\n",
       "      <td>1.0</td>\n",
       "      <td>1</td>\n",
       "      <td>27.0</td>\n",
       "      <td>1.0</td>\n",
       "      <td>0.0</td>\n",
       "      <td>0.0</td>\n",
       "      <td>1</td>\n",
       "      <td>0</td>\n",
       "      <td>...</td>\n",
       "      <td>1</td>\n",
       "      <td>0.0</td>\n",
       "      <td>1.0</td>\n",
       "      <td>5.0</td>\n",
       "      <td>0.0</td>\n",
       "      <td>0.0</td>\n",
       "      <td>0</td>\n",
       "      <td>5</td>\n",
       "      <td>5.0</td>\n",
       "      <td>9.0</td>\n",
       "    </tr>\n",
       "    <tr>\n",
       "      <th>2</th>\n",
       "      <td>0.0</td>\n",
       "      <td>0</td>\n",
       "      <td>1.0</td>\n",
       "      <td>1</td>\n",
       "      <td>21.0</td>\n",
       "      <td>1.0</td>\n",
       "      <td>0.0</td>\n",
       "      <td>1.0</td>\n",
       "      <td>1</td>\n",
       "      <td>0</td>\n",
       "      <td>...</td>\n",
       "      <td>1</td>\n",
       "      <td>0.0</td>\n",
       "      <td>3.0</td>\n",
       "      <td>6.0</td>\n",
       "      <td>5.0</td>\n",
       "      <td>1.0</td>\n",
       "      <td>0</td>\n",
       "      <td>10</td>\n",
       "      <td>6.0</td>\n",
       "      <td>6.0</td>\n",
       "    </tr>\n",
       "    <tr>\n",
       "      <th>3</th>\n",
       "      <td>0.0</td>\n",
       "      <td>0</td>\n",
       "      <td>0.0</td>\n",
       "      <td>1</td>\n",
       "      <td>25.0</td>\n",
       "      <td>0.0</td>\n",
       "      <td>0.0</td>\n",
       "      <td>0.0</td>\n",
       "      <td>1</td>\n",
       "      <td>1</td>\n",
       "      <td>...</td>\n",
       "      <td>1</td>\n",
       "      <td>1.0</td>\n",
       "      <td>3.0</td>\n",
       "      <td>10.0</td>\n",
       "      <td>2.0</td>\n",
       "      <td>0.0</td>\n",
       "      <td>0</td>\n",
       "      <td>2</td>\n",
       "      <td>6.0</td>\n",
       "      <td>5.0</td>\n",
       "    </tr>\n",
       "    <tr>\n",
       "      <th>4</th>\n",
       "      <td>0.0</td>\n",
       "      <td>0</td>\n",
       "      <td>0.0</td>\n",
       "      <td>1</td>\n",
       "      <td>31.0</td>\n",
       "      <td>0.0</td>\n",
       "      <td>0.0</td>\n",
       "      <td>0.0</td>\n",
       "      <td>1</td>\n",
       "      <td>0</td>\n",
       "      <td>...</td>\n",
       "      <td>1</td>\n",
       "      <td>0.0</td>\n",
       "      <td>3.0</td>\n",
       "      <td>30.0</td>\n",
       "      <td>0.0</td>\n",
       "      <td>0.0</td>\n",
       "      <td>1</td>\n",
       "      <td>3</td>\n",
       "      <td>4.0</td>\n",
       "      <td>4.0</td>\n",
       "    </tr>\n",
       "  </tbody>\n",
       "</table>\n",
       "<p>5 rows × 22 columns</p>\n",
       "</div>"
      ],
      "text/plain": [
       "   Diabetes_binary  HighBP  HighChol  CholCheck   BMI  Smoker  Stroke  \\\n",
       "0              0.0       1       1.0          1  33.0     1.0     0.0   \n",
       "1              0.0       1       1.0          1  27.0     1.0     0.0   \n",
       "2              0.0       0       1.0          1  21.0     1.0     0.0   \n",
       "3              0.0       0       0.0          1  25.0     0.0     0.0   \n",
       "4              0.0       0       0.0          1  31.0     0.0     0.0   \n",
       "\n",
       "   HeartDiseaseorAttack  PhysActivity  Fruits  ...  _HLTHPLN  MEDCOST1  \\\n",
       "0                   0.0             1       1  ...         1       0.0   \n",
       "1                   0.0             1       0  ...         1       0.0   \n",
       "2                   1.0             1       0  ...         1       0.0   \n",
       "3                   0.0             1       1  ...         1       1.0   \n",
       "4                   0.0             1       0  ...         1       0.0   \n",
       "\n",
       "   GENHLTH  MentHlth  PhysHlth  DiffWalk  Sex  Age  Education  INCOME3  \n",
       "0      3.0       0.0       6.0       0.0    1    9        4.0      7.0  \n",
       "1      1.0       5.0       0.0       0.0    0    5        5.0      9.0  \n",
       "2      3.0       6.0       5.0       1.0    0   10        6.0      6.0  \n",
       "3      3.0      10.0       2.0       0.0    0    2        6.0      5.0  \n",
       "4      3.0      30.0       0.0       0.0    1    3        4.0      4.0  \n",
       "\n",
       "[5 rows x 22 columns]"
      ]
     },
     "execution_count": 164,
     "metadata": {},
     "output_type": "execute_result"
    }
   ],
   "source": [
    "#Now we have a dataset of 67136 rows that is equally balanced with 50% 1 and 50% 0 for the target variable Diabetes_binary\n",
    "diabetes_5050.head()"
   ]
  },
  {
   "cell_type": "code",
   "execution_count": 165,
   "id": "a19cd64c",
   "metadata": {},
   "outputs": [
    {
     "data": {
      "text/html": [
       "<div>\n",
       "<style scoped>\n",
       "    .dataframe tbody tr th:only-of-type {\n",
       "        vertical-align: middle;\n",
       "    }\n",
       "\n",
       "    .dataframe tbody tr th {\n",
       "        vertical-align: top;\n",
       "    }\n",
       "\n",
       "    .dataframe thead th {\n",
       "        text-align: right;\n",
       "    }\n",
       "</style>\n",
       "<table border=\"1\" class=\"dataframe\">\n",
       "  <thead>\n",
       "    <tr style=\"text-align: right;\">\n",
       "      <th></th>\n",
       "      <th>Diabetes_binary</th>\n",
       "      <th>HighBP</th>\n",
       "      <th>HighChol</th>\n",
       "      <th>CholCheck</th>\n",
       "      <th>BMI</th>\n",
       "      <th>Smoker</th>\n",
       "      <th>Stroke</th>\n",
       "      <th>HeartDiseaseorAttack</th>\n",
       "      <th>PhysActivity</th>\n",
       "      <th>Fruits</th>\n",
       "      <th>...</th>\n",
       "      <th>_HLTHPLN</th>\n",
       "      <th>MEDCOST1</th>\n",
       "      <th>GENHLTH</th>\n",
       "      <th>MentHlth</th>\n",
       "      <th>PhysHlth</th>\n",
       "      <th>DiffWalk</th>\n",
       "      <th>Sex</th>\n",
       "      <th>Age</th>\n",
       "      <th>Education</th>\n",
       "      <th>INCOME3</th>\n",
       "    </tr>\n",
       "  </thead>\n",
       "  <tbody>\n",
       "    <tr>\n",
       "      <th>67131</th>\n",
       "      <td>1.0</td>\n",
       "      <td>1</td>\n",
       "      <td>0.0</td>\n",
       "      <td>1</td>\n",
       "      <td>27.0</td>\n",
       "      <td>0.0</td>\n",
       "      <td>0.0</td>\n",
       "      <td>0.0</td>\n",
       "      <td>1</td>\n",
       "      <td>1</td>\n",
       "      <td>...</td>\n",
       "      <td>1</td>\n",
       "      <td>0.0</td>\n",
       "      <td>3.0</td>\n",
       "      <td>0.0</td>\n",
       "      <td>0.0</td>\n",
       "      <td>0.0</td>\n",
       "      <td>1</td>\n",
       "      <td>11</td>\n",
       "      <td>5.0</td>\n",
       "      <td>6.0</td>\n",
       "    </tr>\n",
       "    <tr>\n",
       "      <th>67132</th>\n",
       "      <td>1.0</td>\n",
       "      <td>1</td>\n",
       "      <td>1.0</td>\n",
       "      <td>1</td>\n",
       "      <td>26.0</td>\n",
       "      <td>0.0</td>\n",
       "      <td>0.0</td>\n",
       "      <td>0.0</td>\n",
       "      <td>0</td>\n",
       "      <td>1</td>\n",
       "      <td>...</td>\n",
       "      <td>1</td>\n",
       "      <td>0.0</td>\n",
       "      <td>4.0</td>\n",
       "      <td>0.0</td>\n",
       "      <td>0.0</td>\n",
       "      <td>0.0</td>\n",
       "      <td>0</td>\n",
       "      <td>11</td>\n",
       "      <td>4.0</td>\n",
       "      <td>2.0</td>\n",
       "    </tr>\n",
       "    <tr>\n",
       "      <th>67133</th>\n",
       "      <td>1.0</td>\n",
       "      <td>1</td>\n",
       "      <td>1.0</td>\n",
       "      <td>1</td>\n",
       "      <td>32.0</td>\n",
       "      <td>0.0</td>\n",
       "      <td>0.0</td>\n",
       "      <td>1.0</td>\n",
       "      <td>1</td>\n",
       "      <td>0</td>\n",
       "      <td>...</td>\n",
       "      <td>1</td>\n",
       "      <td>1.0</td>\n",
       "      <td>2.0</td>\n",
       "      <td>10.0</td>\n",
       "      <td>0.0</td>\n",
       "      <td>0.0</td>\n",
       "      <td>1</td>\n",
       "      <td>8</td>\n",
       "      <td>6.0</td>\n",
       "      <td>6.0</td>\n",
       "    </tr>\n",
       "    <tr>\n",
       "      <th>67134</th>\n",
       "      <td>1.0</td>\n",
       "      <td>1</td>\n",
       "      <td>1.0</td>\n",
       "      <td>1</td>\n",
       "      <td>33.0</td>\n",
       "      <td>0.0</td>\n",
       "      <td>0.0</td>\n",
       "      <td>0.0</td>\n",
       "      <td>0</td>\n",
       "      <td>0</td>\n",
       "      <td>...</td>\n",
       "      <td>1</td>\n",
       "      <td>0.0</td>\n",
       "      <td>2.0</td>\n",
       "      <td>0.0</td>\n",
       "      <td>0.0</td>\n",
       "      <td>1.0</td>\n",
       "      <td>1</td>\n",
       "      <td>10</td>\n",
       "      <td>4.0</td>\n",
       "      <td>5.0</td>\n",
       "    </tr>\n",
       "    <tr>\n",
       "      <th>67135</th>\n",
       "      <td>1.0</td>\n",
       "      <td>1</td>\n",
       "      <td>1.0</td>\n",
       "      <td>1</td>\n",
       "      <td>21.0</td>\n",
       "      <td>0.0</td>\n",
       "      <td>0.0</td>\n",
       "      <td>0.0</td>\n",
       "      <td>1</td>\n",
       "      <td>1</td>\n",
       "      <td>...</td>\n",
       "      <td>1</td>\n",
       "      <td>0.0</td>\n",
       "      <td>4.0</td>\n",
       "      <td>0.0</td>\n",
       "      <td>0.0</td>\n",
       "      <td>0.0</td>\n",
       "      <td>1</td>\n",
       "      <td>10</td>\n",
       "      <td>2.0</td>\n",
       "      <td>3.0</td>\n",
       "    </tr>\n",
       "  </tbody>\n",
       "</table>\n",
       "<p>5 rows × 22 columns</p>\n",
       "</div>"
      ],
      "text/plain": [
       "       Diabetes_binary  HighBP  HighChol  CholCheck   BMI  Smoker  Stroke  \\\n",
       "67131              1.0       1       0.0          1  27.0     0.0     0.0   \n",
       "67132              1.0       1       1.0          1  26.0     0.0     0.0   \n",
       "67133              1.0       1       1.0          1  32.0     0.0     0.0   \n",
       "67134              1.0       1       1.0          1  33.0     0.0     0.0   \n",
       "67135              1.0       1       1.0          1  21.0     0.0     0.0   \n",
       "\n",
       "       HeartDiseaseorAttack  PhysActivity  Fruits  ...  _HLTHPLN  MEDCOST1  \\\n",
       "67131                   0.0             1       1  ...         1       0.0   \n",
       "67132                   0.0             0       1  ...         1       0.0   \n",
       "67133                   1.0             1       0  ...         1       1.0   \n",
       "67134                   0.0             0       0  ...         1       0.0   \n",
       "67135                   0.0             1       1  ...         1       0.0   \n",
       "\n",
       "       GENHLTH  MentHlth  PhysHlth  DiffWalk  Sex  Age  Education  INCOME3  \n",
       "67131      3.0       0.0       0.0       0.0    1   11        5.0      6.0  \n",
       "67132      4.0       0.0       0.0       0.0    0   11        4.0      2.0  \n",
       "67133      2.0      10.0       0.0       0.0    1    8        6.0      6.0  \n",
       "67134      2.0       0.0       0.0       1.0    1   10        4.0      5.0  \n",
       "67135      4.0       0.0       0.0       0.0    1   10        2.0      3.0  \n",
       "\n",
       "[5 rows x 22 columns]"
      ]
     },
     "execution_count": 165,
     "metadata": {},
     "output_type": "execute_result"
    }
   ],
   "source": [
    "diabetes_5050.tail()"
   ]
  },
  {
   "cell_type": "code",
   "execution_count": 166,
   "id": "4fe04ea2",
   "metadata": {
    "scrolled": true
   },
   "outputs": [
    {
     "data": {
      "text/plain": [
       "Diabetes_binary\n",
       "0.0    33568\n",
       "1.0    33568\n",
       "dtype: int64"
      ]
     },
     "execution_count": 166,
     "metadata": {},
     "output_type": "execute_result"
    }
   ],
   "source": [
    "#See the classes are perfectly balanced now\n",
    "diabetes_5050.groupby(['Diabetes_binary']).size()"
   ]
  },
  {
   "cell_type": "markdown",
   "id": "ebcdf8ac",
   "metadata": {},
   "source": [
    "### Step 6: Export cleaned dataset to csv"
   ]
  },
  {
   "cell_type": "code",
   "execution_count": 167,
   "id": "6f3bce95",
   "metadata": {},
   "outputs": [],
   "source": [
    "diabetes_5050.to_csv('diabetes.csv', sep=\",\", index=False)"
   ]
  }
 ],
 "metadata": {
  "kernelspec": {
   "display_name": "Python 3 (ipykernel)",
   "language": "python",
   "name": "python3"
  },
  "language_info": {
   "codemirror_mode": {
    "name": "ipython",
    "version": 3
   },
   "file_extension": ".py",
   "mimetype": "text/x-python",
   "name": "python",
   "nbconvert_exporter": "python",
   "pygments_lexer": "ipython3",
   "version": "3.11.5"
  }
 },
 "nbformat": 4,
 "nbformat_minor": 5
}
